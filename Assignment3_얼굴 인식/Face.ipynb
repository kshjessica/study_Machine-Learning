{
 "cells": [
  {
   "cell_type": "code",
   "execution_count": 1,
   "metadata": {},
   "outputs": [],
   "source": [
    "import cv2\n",
    "import os\n",
    "from PIL import Image\n",
    "from scipy import misc\n",
    "import tensorflow as tf\n",
    "import tensorflow.keras as keras\n",
    "import matplotlib.pyplot as plt\n",
    "import numpy as np\n",
    "import pandas as pd\n",
    "import gzip\n",
    "%matplotlib inline\n",
    "from tensorflow.keras.layers import Input,Conv2D,MaxPooling2D,UpSampling2D\n",
    "from tensorflow.keras.models import Model\n",
    "from tensorflow.keras.optimizers import RMSprop\n",
    "from tensorflow.keras.preprocessing.image import load_img\n",
    "from tensorflow.keras.preprocessing.image import img_to_array\n",
    "from tensorflow.keras.preprocessing.image import array_to_img\n"
   ]
  },
  {
   "cell_type": "markdown",
   "metadata": {},
   "source": [
    "# DATA Preprocessing"
   ]
  },
  {
   "cell_type": "code",
   "execution_count": 2,
   "metadata": {
    "scrolled": false
   },
   "outputs": [],
   "source": [
    "#Data Preprocessing\n",
    "\n",
    "def create_dataset_train(img_folder):\n",
    "   \n",
    "    img_data_array=[]\n",
    "    class_name=[]\n",
    "    \n",
    "    for file in os.listdir(img_folder):\n",
    "        \n",
    "        image_path = os.path.join(img_folder, file)\n",
    "        image = load_img(image_path, 'rb')\n",
    "        image = img_to_array(image)\n",
    "        \n",
    "        if image.shape[2] == 3:\n",
    "            image = image.mean(2)\n",
    "        img_data_array.append(image)\n",
    "        name_index = file.split(\"_\")\n",
    "        name_index = int(name_index[0])\n",
    "        class_name.append(name_index)\n",
    "        \n",
    "    return np.array(img_data_array), np.array(class_name)\n",
    "\n",
    "def create_dataset_test(img_folder):\n",
    "   \n",
    "    img_data_array=[]\n",
    "    class_name=[]\n",
    "    \n",
    "    for file in os.listdir(img_folder):\n",
    "        \n",
    "        image_path = os.path.join(img_folder, file)\n",
    "        image = load_img(image_path, 'rb')\n",
    "        image = img_to_array(image)\n",
    "        \n",
    "        if image.shape[2] == 3:\n",
    "            image = image.mean(2)\n",
    "        img_data_array.append(image)\n",
    "        name_index = file.split(\".\")\n",
    "        name_index = int(name_index[0])\n",
    "        class_name.append(name_index)\n",
    "        \n",
    "    return np.array(img_data_array), np.array(class_name)\n",
    "\n",
    "def normalization(image):\n",
    "    image = image / image.max()\n",
    "    image = image.reshape([-1, 56, 46, 1])\n",
    "    return image\n",
    "\n",
    "\n",
    "training_path = \"./02_face_training\"\n",
    "test_path = './02_face_test'\n",
    "\n",
    "train_data, train_label = create_dataset_train(training_path)\n",
    "test_data, _ = create_dataset_test(test_path)\n",
    "\n",
    "train_data = normalization(train_data)\n",
    "test_data = normalization(test_data)"
   ]
  },
  {
   "cell_type": "code",
   "execution_count": 3,
   "metadata": {},
   "outputs": [],
   "source": [
    "#preparing test_result_DataFrame\n",
    "\n",
    "test_index = os.listdir(test_path)\n",
    "temp = []\n",
    "\n",
    "for index in test_index:\n",
    "    index = index.split(\".\")\n",
    "    temp.append(int(index[0]))\n",
    "    \n",
    "test_index = temp"
   ]
  },
  {
   "cell_type": "code",
   "execution_count": 4,
   "metadata": {},
   "outputs": [
    {
     "name": "stdout",
     "output_type": "stream",
     "text": [
      "Shape of Train images : (1050, 56, 46, 1)\n",
      "Shape of Train labels :  (1050,)\n",
      "Shape of Test images :  (700, 56, 46, 1)\n"
     ]
    }
   ],
   "source": [
    "print('Shape of Train images :',train_data.shape)\n",
    "print('Shape of Train labels : ', train_label.shape)\n",
    "print('Shape of Test images : ', test_data.shape)"
   ]
  },
  {
   "cell_type": "markdown",
   "metadata": {},
   "source": [
    "# Model"
   ]
  },
  {
   "cell_type": "code",
   "execution_count": 5,
   "metadata": {},
   "outputs": [
    {
     "name": "stdout",
     "output_type": "stream",
     "text": [
      "Model: \"sequential\"\n",
      "_________________________________________________________________\n",
      "Layer (type)                 Output Shape              Param #   \n",
      "=================================================================\n",
      "flatten (Flatten)            (None, 2576)              0         \n",
      "_________________________________________________________________\n",
      "dense (Dense)                (None, 256)               659712    \n",
      "_________________________________________________________________\n",
      "dense_1 (Dense)              (None, 351)               90207     \n",
      "=================================================================\n",
      "Total params: 749,919\n",
      "Trainable params: 749,919\n",
      "Non-trainable params: 0\n",
      "_________________________________________________________________\n"
     ]
    }
   ],
   "source": [
    "model = keras.Sequential([\n",
    "    keras.layers.Flatten(input_shape=(56, 46)),\n",
    "    keras.layers.Dense(256, activation='relu'),\n",
    "    keras.layers.Dense(351, activation='softmax')\n",
    "])\n",
    "\n",
    "model.summary()"
   ]
  },
  {
   "cell_type": "code",
   "execution_count": 6,
   "metadata": {},
   "outputs": [],
   "source": [
    "model.compile(optimizer='adam',\n",
    "              loss='sparse_categorical_crossentropy',\n",
    "              metrics=['accuracy'])"
   ]
  },
  {
   "cell_type": "code",
   "execution_count": 7,
   "metadata": {
    "scrolled": false
   },
   "outputs": [
    {
     "name": "stdout",
     "output_type": "stream",
     "text": [
      "Epoch 1/38\n",
      "33/33 [==============================] - 1s 6ms/step - loss: 6.0006 - accuracy: 0.0000e+00\n",
      "Epoch 2/38\n",
      "33/33 [==============================] - 0s 6ms/step - loss: 5.8136 - accuracy: 0.0105\n",
      "Epoch 3/38\n",
      "33/33 [==============================] - 0s 6ms/step - loss: 5.6445 - accuracy: 0.0095\n",
      "Epoch 4/38\n",
      "33/33 [==============================] - 0s 6ms/step - loss: 5.3578 - accuracy: 0.0210\n",
      "Epoch 5/38\n",
      "33/33 [==============================] - 0s 6ms/step - loss: 5.0053 - accuracy: 0.0362\n",
      "Epoch 6/38\n",
      "33/33 [==============================] - 0s 6ms/step - loss: 4.5905 - accuracy: 0.0638\n",
      "Epoch 7/38\n",
      "33/33 [==============================] - 0s 6ms/step - loss: 4.1839 - accuracy: 0.1019\n",
      "Epoch 8/38\n",
      "33/33 [==============================] - 0s 6ms/step - loss: 3.8183 - accuracy: 0.1467\n",
      "Epoch 9/38\n",
      "33/33 [==============================] - 0s 6ms/step - loss: 3.5046 - accuracy: 0.1914\n",
      "Epoch 10/38\n",
      "33/33 [==============================] - 0s 6ms/step - loss: 3.2319 - accuracy: 0.2314\n",
      "Epoch 11/38\n",
      "33/33 [==============================] - 0s 6ms/step - loss: 2.9764 - accuracy: 0.2943\n",
      "Epoch 12/38\n",
      "33/33 [==============================] - 0s 6ms/step - loss: 2.7672 - accuracy: 0.3181\n",
      "Epoch 13/38\n",
      "33/33 [==============================] - 0s 6ms/step - loss: 2.5777 - accuracy: 0.3752\n",
      "Epoch 14/38\n",
      "33/33 [==============================] - 0s 6ms/step - loss: 2.4253 - accuracy: 0.4162\n",
      "Epoch 15/38\n",
      "33/33 [==============================] - 0s 6ms/step - loss: 2.2556 - accuracy: 0.4476\n",
      "Epoch 16/38\n",
      "33/33 [==============================] - 0s 6ms/step - loss: 2.1245 - accuracy: 0.4990\n",
      "Epoch 17/38\n",
      "33/33 [==============================] - 0s 6ms/step - loss: 2.0036 - accuracy: 0.5019\n",
      "Epoch 18/38\n",
      "33/33 [==============================] - 0s 6ms/step - loss: 1.8609 - accuracy: 0.5505\n",
      "Epoch 19/38\n",
      "33/33 [==============================] - 0s 6ms/step - loss: 1.7461 - accuracy: 0.5781\n",
      "Epoch 20/38\n",
      "33/33 [==============================] - 0s 6ms/step - loss: 1.6541 - accuracy: 0.6133\n",
      "Epoch 21/38\n",
      "33/33 [==============================] - 0s 6ms/step - loss: 1.5404 - accuracy: 0.6562\n",
      "Epoch 22/38\n",
      "33/33 [==============================] - 0s 6ms/step - loss: 1.4445 - accuracy: 0.6648\n",
      "Epoch 23/38\n",
      "33/33 [==============================] - 0s 6ms/step - loss: 1.3659 - accuracy: 0.6914\n",
      "Epoch 24/38\n",
      "33/33 [==============================] - 0s 6ms/step - loss: 1.2825 - accuracy: 0.7076\n",
      "Epoch 25/38\n",
      "33/33 [==============================] - 0s 6ms/step - loss: 1.2266 - accuracy: 0.7333\n",
      "Epoch 26/38\n",
      "33/33 [==============================] - 0s 6ms/step - loss: 1.1578 - accuracy: 0.7581\n",
      "Epoch 27/38\n",
      "33/33 [==============================] - 0s 6ms/step - loss: 1.0987 - accuracy: 0.7743\n",
      "Epoch 28/38\n",
      "33/33 [==============================] - 0s 6ms/step - loss: 1.0261 - accuracy: 0.7848\n",
      "Epoch 29/38\n",
      "33/33 [==============================] - 0s 6ms/step - loss: 0.9863 - accuracy: 0.7886\n",
      "Epoch 30/38\n",
      "33/33 [==============================] - 0s 6ms/step - loss: 0.9269 - accuracy: 0.8219\n",
      "Epoch 31/38\n",
      "33/33 [==============================] - 0s 6ms/step - loss: 0.8927 - accuracy: 0.8133\n",
      "Epoch 32/38\n",
      "33/33 [==============================] - 0s 6ms/step - loss: 0.8651 - accuracy: 0.8181\n",
      "Epoch 33/38\n",
      "33/33 [==============================] - 0s 6ms/step - loss: 0.8248 - accuracy: 0.8324\n",
      "Epoch 34/38\n",
      "33/33 [==============================] - 0s 6ms/step - loss: 0.7717 - accuracy: 0.8505\n",
      "Epoch 35/38\n",
      "33/33 [==============================] - 0s 6ms/step - loss: 0.7486 - accuracy: 0.8381\n",
      "Epoch 36/38\n",
      "33/33 [==============================] - 0s 6ms/step - loss: 0.7123 - accuracy: 0.8610\n",
      "Epoch 37/38\n",
      "33/33 [==============================] - 0s 6ms/step - loss: 0.6955 - accuracy: 0.8619\n",
      "Epoch 38/38\n",
      "33/33 [==============================] - 0s 6ms/step - loss: 0.6683 - accuracy: 0.8657\n"
     ]
    }
   ],
   "source": [
    "tracking = model.fit(train_data, train_label, epochs = 38)"
   ]
  },
  {
   "cell_type": "code",
   "execution_count": 8,
   "metadata": {},
   "outputs": [
    {
     "data": {
      "image/png": "[encoded data removed]",
      "text/plain": [
       "<Figure size 432x288 with 1 Axes>"
      ]
     },
     "metadata": {
      "needs_background": "light"
     },
     "output_type": "display_data"
    }
   ],
   "source": [
    "def plt_show_acc(history):\n",
    "    plt.plot(history.history['accuracy'])\n",
    "    plt.title('Model accuracy')\n",
    "    plt.ylabel('Accuracy')\n",
    "    plt.xlabel('Epoch')\n",
    "    plt.legend(['Train'], loc=0)\n",
    "\n",
    "plt_show_acc(tracking)"
   ]
  },
  {
   "cell_type": "markdown",
   "metadata": {},
   "source": [
    "# Training Validation"
   ]
  },
  {
   "cell_type": "code",
   "execution_count": 9,
   "metadata": {},
   "outputs": [],
   "source": [
    "predictions = model.predict(train_data)"
   ]
  },
  {
   "cell_type": "code",
   "execution_count": 10,
   "metadata": {},
   "outputs": [
    {
     "name": "stdout",
     "output_type": "stream",
     "text": [
      "(1050, 351)\n"
     ]
    }
   ],
   "source": [
    "print(predictions.shape)"
   ]
  },
  {
   "cell_type": "code",
   "execution_count": 11,
   "metadata": {},
   "outputs": [],
   "source": [
    "predict_label = []\n",
    "for image in predictions:\n",
    "    predict_label.append(np.argmax(image))"
   ]
  },
  {
   "cell_type": "code",
   "execution_count": 12,
   "metadata": {},
   "outputs": [],
   "source": [
    "predict_label = np.array(predict_label)"
   ]
  },
  {
   "cell_type": "code",
   "execution_count": 13,
   "metadata": {},
   "outputs": [
    {
     "data": {
      "text/plain": [
       "0.9047619047619048"
      ]
     },
     "execution_count": 13,
     "metadata": {},
     "output_type": "execute_result"
    }
   ],
   "source": [
    "def accuracy(original, prediction):\n",
    "    accuracy = original == prediction\n",
    "    accuracy = np.count_nonzero(accuracy)\n",
    "    \n",
    "    return accuracy / original.shape[0]\n",
    "    \n",
    "accuracy(train_label, predict_label)"
   ]
  },
  {
   "cell_type": "markdown",
   "metadata": {},
   "source": [
    "# Test"
   ]
  },
  {
   "cell_type": "code",
   "execution_count": 14,
   "metadata": {},
   "outputs": [],
   "source": [
    "predictions = model.predict(test_data)"
   ]
  },
  {
   "cell_type": "code",
   "execution_count": 15,
   "metadata": {},
   "outputs": [
    {
     "name": "stdout",
     "output_type": "stream",
     "text": [
      "(700, 351)\n"
     ]
    }
   ],
   "source": [
    "print(predictions.shape)"
   ]
  },
  {
   "cell_type": "code",
   "execution_count": 16,
   "metadata": {},
   "outputs": [],
   "source": [
    "test_label = []\n",
    "for image in predictions:\n",
    "    test_label.append(np.argmax(image))"
   ]
  },
  {
   "cell_type": "code",
   "execution_count": 17,
   "metadata": {},
   "outputs": [],
   "source": [
    "test_label = np.array(test_label)"
   ]
  },
  {
   "cell_type": "code",
   "execution_count": 18,
   "metadata": {},
   "outputs": [
    {
     "name": "stdout",
     "output_type": "stream",
     "text": [
      "[ 80 153 296 214 290  51 326 107 251   3 219 273 213  29  30 227 197 269\n",
      " 324  53 324 194 280 266 233 234 177 319 136 271 213 239 278 158 216 287\n",
      " 180 283 317 177 283 210 241 337  19 177 342 168 222 347 213 213 164 186\n",
      " 283 226 162 101 125 296  61 197 134 220 218 154 177  92 238 279 120 286\n",
      " 165 181  79  91 209  99  85 232 245 320 125 100 290 224 203 294 160 225\n",
      " 266  77 254 240   5 109 232  30 200 135 151 334 169 345  30 308 238 152\n",
      " 109 167 203 270 226 217 310 212 109 228 196 226  32 278 238 213 320  90\n",
      " 276 205 241 345 197 213 151 200 151 178 248 234 242 333  38  59 212 247\n",
      " 234 179 278 310  34 233 157  85 324 125 296 122 226 334 216 215 226 107\n",
      "  85 264 211 314  34 173 125 177 188 162 180 213 168 302 227 316 317 236\n",
      "  96 226 287 109 213  93 228 239 127 136 223 320 157  79 262 243 215 262\n",
      " 195 263 296 167 233 109 305 341 305 333 154 253 111 155 167  99  30  79\n",
      " 271  92 348 290 283 250 200 253 233 252 246 161 295  46 118 227  85 213\n",
      " 175 248 193 134 284 336  39 341 241 308 234 312 186 334 337 213 238   5\n",
      " 307 159 176  94  88 182 157 153 323 175 213 339 339 261 189  97  85 344\n",
      "  92 186 292 298  91 250 164 317 268 302 303  79  46 105   3  91 341 232\n",
      "  79 211 238 349 154  99 209 109 238 109 234 321 215 195   5  61 283  85\n",
      " 294 282 324 110  85  30 284 225 154 232  96 278 106 157 218 300 168 215\n",
      " 245 204 200 228 197 320 255 278 317 228 234 234 241 284 207  79 197 268\n",
      "   5  46 214 243 109 232 153 245  79 310 332 228 232 163 179 269  79 296\n",
      " 230  85   2 212 167  30 260 225 297 186 297 314 109 340  99  39 176 295\n",
      " 290 239 151 225 253 150 234 245 154 263 337 304 283  85  76 209  19 308\n",
      " 120 310 245 320  80  76 267 327 226 159 242 321 262 186 259 246 262 321\n",
      " 152 238 302 213  42  76 167 159  92 205 259 289 239 324  54 347 284 109\n",
      " 107 239 346 304  53 256 248  66 209 232 284 230 303 176 345 322 324 155\n",
      " 103 233 157 239 207 103 227 181 220 261 283 247 321 213  85 345 246 133\n",
      " 262 347 248 230 213  96  99 287 250 213 347 298 113 286 312 258 187 140\n",
      " 269 252 216 209 103 111 161 281 345 245 213 195 278 213 106 257  59 230\n",
      " 247  85 120 152 176  29 217 131 128 245 180 298 245 110 287 115 268 342\n",
      " 163  61 154 196 324 230 132 144  79 233 325  30 250 180 209  79 226 204\n",
      " 278 308 152 225 222 322 259 152 255 233 324 349 288 186  92 256 225 241\n",
      " 156 158  27 320 307 242 123 192 341  85 287 208  92 120 166  30 303 200\n",
      " 103 237 334 189 167 154 299 333 321 221 186 238 205  80 106 213 254 204\n",
      " 338 324 298 244 213 185 155 311 213  99 266 176 317 148 180 152 269 160\n",
      " 167 313  36 179 296  79 336 266 303  70 103 321   3 213 306 303 341 166\n",
      "  30 200 213 311  79 123 109  76 226  84 342 186 169 245 173 213 266 124\n",
      "  92 226 336 154 347 209 240 250 203 136 320  92 227 210  93 209  92 283\n",
      " 345 265  30 339 205 152 233 186 347  79 103 308  30 335 210  92 289 255\n",
      " 233 213 152  48 230 321 314 239 157 347  92 226 304  93 177 226]\n"
     ]
    }
   ],
   "source": [
    "#결과\n",
    "print(test_label)"
   ]
  },
  {
   "cell_type": "markdown",
   "metadata": {},
   "source": [
    "# Extract Pandas DataFrame"
   ]
  },
  {
   "cell_type": "code",
   "execution_count": 19,
   "metadata": {},
   "outputs": [],
   "source": [
    "test_result_df = pd.DataFrame([x for x in zip(test_index, test_label)], columns=['Image', 'Answer'])"
   ]
  },
  {
   "cell_type": "code",
   "execution_count": 20,
   "metadata": {
    "scrolled": false
   },
   "outputs": [
    {
     "data": {
      "text/html": [
       "<div>\n",
       "<style scoped>\n",
       "    .dataframe tbody tr th:only-of-type {\n",
       "        vertical-align: middle;\n",
       "    }\n",
       "\n",
       "    .dataframe tbody tr th {\n",
       "        vertical-align: top;\n",
       "    }\n",
       "\n",
       "    .dataframe thead th {\n",
       "        text-align: right;\n",
       "    }\n",
       "</style>\n",
       "<table border=\"1\" class=\"dataframe\">\n",
       "  <thead>\n",
       "    <tr style=\"text-align: right;\">\n",
       "      <th></th>\n",
       "      <th>Image</th>\n",
       "      <th>Answer</th>\n",
       "    </tr>\n",
       "  </thead>\n",
       "  <tbody>\n",
       "    <tr>\n",
       "      <th>0</th>\n",
       "      <td>1</td>\n",
       "      <td>80</td>\n",
       "    </tr>\n",
       "    <tr>\n",
       "      <th>1</th>\n",
       "      <td>10</td>\n",
       "      <td>153</td>\n",
       "    </tr>\n",
       "    <tr>\n",
       "      <th>2</th>\n",
       "      <td>100</td>\n",
       "      <td>296</td>\n",
       "    </tr>\n",
       "    <tr>\n",
       "      <th>3</th>\n",
       "      <td>101</td>\n",
       "      <td>214</td>\n",
       "    </tr>\n",
       "    <tr>\n",
       "      <th>4</th>\n",
       "      <td>102</td>\n",
       "      <td>290</td>\n",
       "    </tr>\n",
       "  </tbody>\n",
       "</table>\n",
       "</div>"
      ],
      "text/plain": [
       "   Image  Answer\n",
       "0      1      80\n",
       "1     10     153\n",
       "2    100     296\n",
       "3    101     214\n",
       "4    102     290"
      ]
     },
     "execution_count": 20,
     "metadata": {},
     "output_type": "execute_result"
    }
   ],
   "source": [
    "test_result_df.head()"
   ]
  },
  {
   "cell_type": "code",
   "execution_count": 21,
   "metadata": {},
   "outputs": [
    {
     "data": {
      "text/html": [
       "<div>\n",
       "<style scoped>\n",
       "    .dataframe tbody tr th:only-of-type {\n",
       "        vertical-align: middle;\n",
       "    }\n",
       "\n",
       "    .dataframe tbody tr th {\n",
       "        vertical-align: top;\n",
       "    }\n",
       "\n",
       "    .dataframe thead th {\n",
       "        text-align: right;\n",
       "    }\n",
       "</style>\n",
       "<table border=\"1\" class=\"dataframe\">\n",
       "  <thead>\n",
       "    <tr style=\"text-align: right;\">\n",
       "      <th></th>\n",
       "      <th>Image</th>\n",
       "      <th>Answer</th>\n",
       "    </tr>\n",
       "  </thead>\n",
       "  <tbody>\n",
       "    <tr>\n",
       "      <th>0</th>\n",
       "      <td>1</td>\n",
       "      <td>80</td>\n",
       "    </tr>\n",
       "    <tr>\n",
       "      <th>111</th>\n",
       "      <td>2</td>\n",
       "      <td>270</td>\n",
       "    </tr>\n",
       "    <tr>\n",
       "      <th>222</th>\n",
       "      <td>3</td>\n",
       "      <td>200</td>\n",
       "    </tr>\n",
       "    <tr>\n",
       "      <th>333</th>\n",
       "      <td>4</td>\n",
       "      <td>228</td>\n",
       "    </tr>\n",
       "    <tr>\n",
       "      <th>444</th>\n",
       "      <td>5</td>\n",
       "      <td>303</td>\n",
       "    </tr>\n",
       "  </tbody>\n",
       "</table>\n",
       "</div>"
      ],
      "text/plain": [
       "     Image  Answer\n",
       "0        1      80\n",
       "111      2     270\n",
       "222      3     200\n",
       "333      4     228\n",
       "444      5     303"
      ]
     },
     "execution_count": 21,
     "metadata": {},
     "output_type": "execute_result"
    }
   ],
   "source": [
    "test_result_df = test_result_df.sort_values(by=\"Image\")\n",
    "test_result_df.head()"
   ]
  },
  {
   "cell_type": "code",
   "execution_count": 22,
   "metadata": {},
   "outputs": [],
   "source": [
    "test_result_df.to_csv(\"./result.csv\", index=False)"
   ]
  }
 ],
 "metadata": {
  "kernelspec": {
   "display_name": "Python 3",
   "language": "python",
   "name": "python3"
  },
  "language_info": {
   "codemirror_mode": {
    "name": "ipython",
    "version": 3
   },
   "file_extension": ".py",
   "mimetype": "text/x-python",
   "name": "python",
   "nbconvert_exporter": "python",
   "pygments_lexer": "ipython3",
   "version": "3.9.2"
  }
 },
 "nbformat": 4,
 "nbformat_minor": 4
}
