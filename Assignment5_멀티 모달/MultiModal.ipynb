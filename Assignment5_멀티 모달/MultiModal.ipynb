{
 "cells": [
  {
   "cell_type": "code",
   "execution_count": 1,
   "id": "f2e9f5a2",
   "metadata": {},
   "outputs": [],
   "source": [
    "import os\n",
    "import cv2\n",
    "import numpy as np\n",
    "import pandas as pd\n",
    "import tensorflow as tf\n",
    "import matplotlib.pyplot as plt\n",
    "from tensorflow.keras.layers import Dropout, Dense, BatchNormalization, GlobalAveragePooling2D\n",
    "from tensorflow.keras.metrics import Precision, Recall\n",
    "from tensorflow.keras.optimizers import Adam\n",
    "from tensorflow.keras.callbacks import EarlyStopping\n",
    "from sklearn.model_selection import StratifiedKFold\n",
    "from tensorflow.keras.preprocessing.image import ImageDataGenerator\n",
    "from tensorflow.keras.applications import ResNet50V2"
   ]
  },
  {
   "cell_type": "code",
   "execution_count": 2,
   "id": "a1591b96",
   "metadata": {},
   "outputs": [
    {
     "data": {
      "text/html": [
       "<div>\n",
       "<style scoped>\n",
       "    .dataframe tbody tr th:only-of-type {\n",
       "        vertical-align: middle;\n",
       "    }\n",
       "\n",
       "    .dataframe tbody tr th {\n",
       "        vertical-align: top;\n",
       "    }\n",
       "\n",
       "    .dataframe thead th {\n",
       "        text-align: right;\n",
       "    }\n",
       "</style>\n",
       "<table border=\"1\" class=\"dataframe\">\n",
       "  <thead>\n",
       "    <tr style=\"text-align: right;\">\n",
       "      <th></th>\n",
       "      <th>filename</th>\n",
       "      <th>label</th>\n",
       "      <th>kind</th>\n",
       "    </tr>\n",
       "  </thead>\n",
       "  <tbody>\n",
       "    <tr>\n",
       "      <th>0</th>\n",
       "      <td>000_face_0001.BMP</td>\n",
       "      <td>000</td>\n",
       "      <td>f</td>\n",
       "    </tr>\n",
       "    <tr>\n",
       "      <th>1</th>\n",
       "      <td>000_face_0002.BMP</td>\n",
       "      <td>000</td>\n",
       "      <td>f</td>\n",
       "    </tr>\n",
       "    <tr>\n",
       "      <th>2</th>\n",
       "      <td>000_face_0003.BMP</td>\n",
       "      <td>000</td>\n",
       "      <td>f</td>\n",
       "    </tr>\n",
       "    <tr>\n",
       "      <th>3</th>\n",
       "      <td>000_face_0004.BMP</td>\n",
       "      <td>000</td>\n",
       "      <td>f</td>\n",
       "    </tr>\n",
       "    <tr>\n",
       "      <th>4</th>\n",
       "      <td>000_iris_0.png</td>\n",
       "      <td>000</td>\n",
       "      <td>i</td>\n",
       "    </tr>\n",
       "    <tr>\n",
       "      <th>...</th>\n",
       "      <td>...</td>\n",
       "      <td>...</td>\n",
       "      <td>...</td>\n",
       "    </tr>\n",
       "    <tr>\n",
       "      <th>507</th>\n",
       "      <td>063_face_0004.BMP</td>\n",
       "      <td>063</td>\n",
       "      <td>f</td>\n",
       "    </tr>\n",
       "    <tr>\n",
       "      <th>508</th>\n",
       "      <td>063_iris_0.png</td>\n",
       "      <td>063</td>\n",
       "      <td>i</td>\n",
       "    </tr>\n",
       "    <tr>\n",
       "      <th>509</th>\n",
       "      <td>063_iris_1.png</td>\n",
       "      <td>063</td>\n",
       "      <td>i</td>\n",
       "    </tr>\n",
       "    <tr>\n",
       "      <th>510</th>\n",
       "      <td>063_iris_2.png</td>\n",
       "      <td>063</td>\n",
       "      <td>i</td>\n",
       "    </tr>\n",
       "    <tr>\n",
       "      <th>511</th>\n",
       "      <td>063_iris_3.png</td>\n",
       "      <td>063</td>\n",
       "      <td>i</td>\n",
       "    </tr>\n",
       "  </tbody>\n",
       "</table>\n",
       "<p>512 rows × 3 columns</p>\n",
       "</div>"
      ],
      "text/plain": [
       "              filename label kind\n",
       "0    000_face_0001.BMP   000    f\n",
       "1    000_face_0002.BMP   000    f\n",
       "2    000_face_0003.BMP   000    f\n",
       "3    000_face_0004.BMP   000    f\n",
       "4       000_iris_0.png   000    i\n",
       "..                 ...   ...  ...\n",
       "507  063_face_0004.BMP   063    f\n",
       "508     063_iris_0.png   063    i\n",
       "509     063_iris_1.png   063    i\n",
       "510     063_iris_2.png   063    i\n",
       "511     063_iris_3.png   063    i\n",
       "\n",
       "[512 rows x 3 columns]"
      ]
     },
     "execution_count": 2,
     "metadata": {},
     "output_type": "execute_result"
    }
   ],
   "source": [
    "train_path = \"./04_multimodal_training/\"\n",
    "filenames = os.listdir(train_path)\n",
    "\n",
    "labels = []\n",
    "kinds = []\n",
    "\n",
    "for i in range(0, len(filenames)):\n",
    "    label = filenames[i][:3]\n",
    "    kind = filenames[i][4]\n",
    "    labels.append(label)\n",
    "    kinds.append(kind)\n",
    "\n",
    "df = pd.DataFrame({'filename':filenames, 'label':labels, 'kind':kinds})\n",
    "df"
   ]
  },
  {
   "cell_type": "code",
   "execution_count": 35,
   "id": "04a1e6ee",
   "metadata": {},
   "outputs": [
    {
     "name": "stdout",
     "output_type": "stream",
     "text": [
      "(56, 46, 3)\n"
     ]
    },
    {
     "data": {
      "image/png": "[encoded data removed]",
      "text/plain": [
       "<Figure size 432x288 with 1 Axes>"
      ]
     },
     "metadata": {
      "needs_background": "light"
     },
     "output_type": "display_data"
    },
    {
     "name": "stdout",
     "output_type": "stream",
     "text": [
      "(51, 42, 3)\n"
     ]
    },
    {
     "data": {
      "image/png": "[encoded data removed]",
      "text/plain": [
       "<Figure size 432x288 with 1 Axes>"
      ]
     },
     "metadata": {
      "needs_background": "light"
     },
     "output_type": "display_data"
    },
    {
     "name": "stdout",
     "output_type": "stream",
     "text": [
      "(288, 320, 3)\n"
     ]
    },
    {
     "data": {
      "image/png": "[encoded data removed]",
      "text/plain": [
       "<Figure size 432x288 with 1 Axes>"
      ]
     },
     "metadata": {
      "needs_background": "light"
     },
     "output_type": "display_data"
    }
   ],
   "source": [
    "img = cv2.imread(train_path + df.iloc[0,0])\n",
    "img = cv2.cvtColor(img, cv2.COLOR_BGR2RGB)\n",
    "\n",
    "print(img.shape)\n",
    "plt.grid(True)\n",
    "plt.imshow(img)\n",
    "plt.show()\n",
    "\n",
    "crop_img=img[5:60,3:45]\n",
    "print(crop_img.shape)\n",
    "plt.grid(False)\n",
    "plt.imshow(crop_img)\n",
    "plt.show()\n",
    "\n",
    "resize_img = cv2.resize(crop_img, (320, 288))\n",
    "print(resize_img.shape)\n",
    "plt.grid(False)\n",
    "plt.imshow(resize_img)\n",
    "plt.show()"
   ]
  },
  {
   "cell_type": "code",
   "execution_count": 36,
   "id": "0ae74e1a",
   "metadata": {},
   "outputs": [],
   "source": [
    "def load_img(filepath):\n",
    "    img = cv2.imread(filepath)\n",
    "    img = cv2.cvtColor(img, cv2.COLOR_BGR2RGB)\n",
    "    img = img[5:60,3:45]\n",
    "    img = cv2.resize(img, (320, 288))\n",
    "    return img"
   ]
  },
  {
   "cell_type": "code",
   "execution_count": 37,
   "id": "6fa71d48",
   "metadata": {},
   "outputs": [],
   "source": [
    "aug_path = \"./04_multimodal_aug/\""
   ]
  },
  {
   "cell_type": "code",
   "execution_count": 39,
   "id": "21d7ca91",
   "metadata": {},
   "outputs": [],
   "source": [
    "aug_datagen = ImageDataGenerator(\n",
    "    zoom_range=0.075,\n",
    "    width_shift_range=0.075,\n",
    "    height_shift_range=0.075,\n",
    "    brightness_range=[0.7, 1.3],\n",
    "    horizontal_flip=True,\n",
    "    vertical_flip=True,\n",
    ")\n",
    "\n",
    "for i in range(df.shape[0]):\n",
    "    img = load_img(train_path + df['filename'][i])\n",
    "    cv2.imwrite(aug_path + df['filename'][i], cv2.cvtColor(img, cv2.COLOR_RGB2BGR))\n",
    "    img = img.reshape(1, img.shape[0], img.shape[1], img.shape[-1])\n",
    "    j = 1\n",
    "    for batch in aug_datagen.flow(x=img, save_to_dir=aug_path, save_format=\"png\",\n",
    "                                  save_prefix=df['label'][i]+df['kind'][i],\n",
    "                                  batch_size=1):\n",
    "        j = j+1\n",
    "        if j>5:\n",
    "            break"
   ]
  },
  {
   "cell_type": "code",
   "execution_count": null,
   "id": "ab7e2650",
   "metadata": {
    "scrolled": true
   },
   "outputs": [],
   "source": [
    "filenames = os.listdir(aug_path)\n",
    "\n",
    "labels = []\n",
    "kinds = []\n",
    "\n",
    "for i in range(0, len(filenames)):\n",
    "    label = filenames[i][:3]\n",
    "    kind = filenames[i][3]\n",
    "    labels.append(label)\n",
    "    kinds.append(kind)\n",
    "\n",
    "df = pd.DataFrame({'filename':filenames, 'label':labels, 'kind':kinds})\n",
    "df"
   ]
  },
  {
   "cell_type": "code",
   "execution_count": null,
   "id": "e98d838b",
   "metadata": {},
   "outputs": [],
   "source": [
    "def load_scale_reshape(filepath):\n",
    "    img = cv2.imread(filepath)\n",
    "    img = cv2.cvtColor(img, cv2.COLOR_BGR2RGB)\n",
    "    img = img/255.\n",
    "    img = img.reshape(1, img.shape[0], img.shape[1], img.shape[-1])\n",
    "    return img"
   ]
  },
  {
   "cell_type": "code",
   "execution_count": null,
   "id": "44af5834",
   "metadata": {},
   "outputs": [],
   "source": [
    "X = load_scale_reshape(aug_path + df['filename'][0])\n",
    "\n",
    "for i in range(1, df.shape[0]):\n",
    "    img = load_scale_reshape(aug_path + df['filename'][i])\n",
    "    X = np.concatenate((X, img), axis=0)\n",
    "\n",
    "print(X.shape)\n",
    "\n",
    "Y = df['label']\n",
    "Y = pd.get_dummies(Y)\n",
    "print(Y.shape)"
   ]
  },
  {
   "cell_type": "code",
   "execution_count": null,
   "id": "716d2479",
   "metadata": {},
   "outputs": [],
   "source": [
    "IMAGE_WIDTH = X.shape[1]\n",
    "IMAGE_HEIGHT = X.shape[2]\n",
    "IMAGE_CHANNELS = X.shape[-1]\n",
    "OUTPUT_SIZE = len(df['label'].unique())"
   ]
  },
  {
   "cell_type": "code",
   "execution_count": null,
   "id": "191352db",
   "metadata": {},
   "outputs": [],
   "source": [
    "def create_model():\n",
    "    input = tf.keras.Input(shape=(IMAGE_WIDTH, IMAGE_HEIGHT, IMAGE_CHANNELS))\n",
    "    base_model = ResNet50V2(include_top=False, weights='imagenet', input_tensor=input)\n",
    "    \n",
    "    for layer in base_model.layers[:44]:\n",
    "        layer.trainable = False\n",
    "    \n",
    "    X = base_model.output\n",
    "    X = BatchNormalization()(X)\n",
    "    X = GlobalAveragePooling2D()(X)\n",
    "    X = Dropout(0.3)(X)\n",
    "    \n",
    "    X = Dense(512, activation='relu')(X)\n",
    "    X = BatchNormalization()(X)\n",
    "    X = Dropout(0.5)(X)\n",
    "    \n",
    "    Y = Dense(OUTPUT_SIZE, activation='softmax')(X)\n",
    "    \n",
    "    model = tf.keras.Model(inputs = input, outputs = Y)\n",
    "    \n",
    "    model.compile(loss='categorical_crossentropy', optimizer=Adam(learning_rate=0.000075),\n",
    "                 metrics=['accuracy', Precision(), Recall()])\n",
    "    model.summary()\n",
    "    \n",
    "    return model"
   ]
  },
  {
   "cell_type": "code",
   "execution_count": null,
   "id": "96112532",
   "metadata": {},
   "outputs": [],
   "source": [
    "def acc_graph(history):\n",
    "    from pylab import rcParams\n",
    "    from matplotlib import pyplot as plt\n",
    "    rcParams['figure.figsize'] = 10, 4\n",
    "    plt.plot(history.history['accuracy'])\n",
    "    plt.plot(history.history['val_accuracy'])\n",
    "    plt.title('model accuracy')\n",
    "    plt.ylabel('accuracy')\n",
    "    plt.xlabel('epoch')\n",
    "    plt.legend(['train', 'validation'], loc='upper left')\n",
    "    plt.show()\n",
    "    # summarize history for loss\n",
    "    plt.plot(history.history['loss'])\n",
    "    plt.plot(history.history['val_loss'])\n",
    "    plt.title('model loss')\n",
    "    plt.ylabel('loss')\n",
    "    plt.xlabel('epoch')\n",
    "    plt.legend(['train', 'validation'], loc='upper left')\n",
    "    plt.show()"
   ]
  },
  {
   "cell_type": "code",
   "execution_count": null,
   "id": "eaeeb147",
   "metadata": {},
   "outputs": [],
   "source": [
    "batch_size = 32\n",
    "epoch = 20\n",
    "es = EarlyStopping(monitor='val_loss', mode='min', verbose=1, patience=10)\n",
    "scores =[]\n",
    "\n",
    "skf = StratifiedKFold(n_splits=3, shuffle=True)\n",
    "\n",
    "for train_index, val_index in skf.split(X, df['label']):\n",
    "    train_X, val_X = X[train_index], X[val_index]\n",
    "    train_Y, val_Y = Y.iloc[train_index], Y.iloc[val_index]\n",
    "    \n",
    "    model = create_model()\n",
    "    \n",
    "    history = model.fit(train_X, train_Y, batch_size=batch_size, epochs=epoch,\n",
    "                   validation_data = (val_X, val_Y), callbacks=[es])\n",
    "\n",
    "    acc_graph(history)\n",
    "\n",
    "    evaluation = model.evaluate(val_X, val_Y, batch_size = batch_size)\n",
    "    scores.append(evaluation)"
   ]
  },
  {
   "cell_type": "code",
   "execution_count": null,
   "id": "28c2ba62",
   "metadata": {},
   "outputs": [],
   "source": [
    "scores_df = pd.DataFrame(scores, columns=['loss','accuracy','precision', 'recall'])"
   ]
  },
  {
   "cell_type": "code",
   "execution_count": null,
   "id": "a329d599",
   "metadata": {},
   "outputs": [],
   "source": [
    "scores_df['f1-score'] = (2*scores_df['precision']*scores_df['recall'])/(scores_df['precision']+scores_df['recall'])"
   ]
  },
  {
   "cell_type": "code",
   "execution_count": null,
   "id": "b72b457d",
   "metadata": {},
   "outputs": [],
   "source": [
    "scores_df"
   ]
  },
  {
   "cell_type": "code",
   "execution_count": null,
   "id": "eaa9f54d",
   "metadata": {},
   "outputs": [],
   "source": [
    "scores_df.mean()"
   ]
  },
  {
   "cell_type": "code",
   "execution_count": null,
   "id": "b2bf6941",
   "metadata": {},
   "outputs": [],
   "source": [
    "def test_load(filepath):\n",
    "    img = cv2.imread(filepath)\n",
    "    img = cv2.cvtColor(img, cv2.COLOR_BGR2RGB)\n",
    "    img = img[:, 60:700]\n",
    "    img = cv2.resize(img, (320, 288))\n",
    "    img = img/255.\n",
    "    img = img.reshape(1, img.shape[0], img.shape[1], img.shape[-1])\n",
    "    return img"
   ]
  },
  {
   "cell_type": "code",
   "execution_count": null,
   "id": "d9cca610",
   "metadata": {},
   "outputs": [],
   "source": [
    "test_path = \"./03_iris_test/\"\n",
    "filenames = os.listdir(test_path)\n",
    "\n",
    "nums = []\n",
    "for i in range(0, len(filenames)):\n",
    "    num = filenames[i].split('.')[0]\n",
    "    nums.append(num)\n",
    "\n",
    "test_df = pd.DataFrame({'num':nums, 'filename':filenames}) \n",
    "test_df = test_df.astype({'num':'uint16'})\n",
    "\n",
    "test_X = test_load(test_path+test_df['filename'][0])\n",
    "\n",
    "for i in range(1,test_df.shape[0]):\n",
    "    img = test_load(test_path+test_df['filename'][i])\n",
    "    test_X = np.concatenate((test_X, img), axis=0)\n",
    "\n",
    "print(test_X.shape)"
   ]
  },
  {
   "cell_type": "code",
   "execution_count": null,
   "id": "a72d3fe4",
   "metadata": {},
   "outputs": [],
   "source": [
    "pred = pd.DataFrame(model.predict(test_X))\n",
    "pred = pred.round(decimals=2)\n",
    "pred"
   ]
  },
  {
   "cell_type": "code",
   "execution_count": null,
   "id": "87e7f35f",
   "metadata": {},
   "outputs": [],
   "source": [
    "answer = pred.idxmax(axis=1)+1"
   ]
  },
  {
   "cell_type": "code",
   "execution_count": null,
   "id": "99286772",
   "metadata": {},
   "outputs": [],
   "source": [
    "test_df = pd.concat([test_df, answer, pred], axis=1)\n",
    "test_df = test_df.sort_values(by=['num'])"
   ]
  },
  {
   "cell_type": "code",
   "execution_count": null,
   "id": "6ba55f41",
   "metadata": {},
   "outputs": [],
   "source": [
    "col = ['Image', 'Filename', 'Answer']\n",
    "for i in range(OUTPUT_SIZE):\n",
    "    col.append('pred_'+str(i+1))\n",
    "test_df.columns = col"
   ]
  },
  {
   "cell_type": "code",
   "execution_count": null,
   "id": "92d3a5b4",
   "metadata": {},
   "outputs": [],
   "source": [
    "test_df"
   ]
  },
  {
   "cell_type": "code",
   "execution_count": null,
   "id": "e0cfcf7c",
   "metadata": {},
   "outputs": [],
   "source": [
    "ans_df = test_df[['Image', 'Answer']]\n",
    "ans_df"
   ]
  },
  {
   "cell_type": "code",
   "execution_count": null,
   "id": "945b74b6",
   "metadata": {},
   "outputs": [],
   "source": [
    "ans_df.to_csv('./answer.csv', header=True, index=False)"
   ]
  },
  {
   "cell_type": "code",
   "execution_count": null,
   "id": "0584d9f1",
   "metadata": {},
   "outputs": [],
   "source": []
  }
 ],
 "metadata": {
  "kernelspec": {
   "display_name": "venv",
   "language": "python",
   "name": "venv"
  },
  "language_info": {
   "codemirror_mode": {
    "name": "ipython",
    "version": 3
   },
   "file_extension": ".py",
   "mimetype": "text/x-python",
   "name": "python",
   "nbconvert_exporter": "python",
   "pygments_lexer": "ipython3",
   "version": "3.9.2"
  }
 },
 "nbformat": 4,
 "nbformat_minor": 5
}
