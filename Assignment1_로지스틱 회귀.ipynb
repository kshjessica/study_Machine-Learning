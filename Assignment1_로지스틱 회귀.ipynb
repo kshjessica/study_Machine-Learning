{
  "nbformat": 4,
  "nbformat_minor": 0,
  "metadata": {
    "anaconda-cloud": {},
    "colab": {
      "name": "Assignment1_김서현_1971060.ipynb",
      "provenance": [],
      "collapsed_sections": [],
      "include_colab_link": true
    },
    "kernelspec": {
      "display_name": "Python 3",
      "language": "python",
      "name": "python3"
    },
    "language_info": {
      "codemirror_mode": {
        "name": "ipython",
        "version": 3
      },
      "file_extension": ".py",
      "mimetype": "text/x-python",
      "name": "python",
      "nbconvert_exporter": "python",
      "pygments_lexer": "ipython3",
      "version": "3.5.2"
    }
  },
  "cells": [
    {
      "cell_type": "markdown",
      "metadata": {
        "id": "view-in-github",
        "colab_type": "text"
      },
      "source": [
        "<a href=\"https://colab.research.google.com/github/kshjessica/study_Machine-Learning/blob/main/Assignment1_%EB%A1%9C%EC%A7%80%EC%8A%A4%ED%8B%B1%20%ED%9A%8C%EA%B7%80.ipynb\" target=\"_parent\"><img src=\"https://colab.research.google.com/assets/colab-badge.svg\" alt=\"Open In Colab\"/></a>"
      ]
    },
    {
      "cell_type": "markdown",
      "metadata": {
        "id": "t6j5WcA3GbSk"
      },
      "source": [
        "#Assignment 1: Logistic Regression"
      ]
    },
    {
      "cell_type": "markdown",
      "metadata": {
        "id": "ei9BMeksGbSn"
      },
      "source": [
        "## Dataset load & Plot"
      ]
    },
    {
      "cell_type": "code",
      "metadata": {
        "id": "Vlb19coAGbSo"
      },
      "source": [
        "%matplotlib inline\n",
        "import numpy as np\n",
        "import matplotlib.pyplot as plt\n",
        "from sklearn.linear_model import LogisticRegression\n",
        "from warnings import filterwarnings\n",
        "filterwarnings('ignore')"
      ],
      "execution_count": null,
      "outputs": []
    },
    {
      "cell_type": "code",
      "metadata": {
        "id": "xV9Z9RPMGbSt",
        "scrolled": true,
        "colab": {
          "base_uri": "https://localhost:8080/",
          "height": 265
        },
        "outputId": "37af8a3b-e83f-4d5a-a420-e57ef5a45cbc"
      },
      "source": [
        "data = np.loadtxt('data.csv', delimiter=',')\n",
        "\n",
        "X = data[:, :2]\n",
        "y = data[:, 2]\n",
        "label_mask = np.equal(y, 1)\n",
        "\n",
        "plt.scatter(X[:, 0][label_mask], X[:, 1][label_mask], color='red')\n",
        "plt.scatter(X[:, 0][~label_mask], X[:, 1][~label_mask], color='blue')\n",
        "\n",
        "plt.show()"
      ],
      "execution_count": null,
      "outputs": [
        {
          "output_type": "display_data",
          "data": {
            "image/png": "[encoded data removed]",
            "text/plain": [
              "<Figure size 432x288 with 1 Axes>"
            ]
          },
          "metadata": {
            "tags": [],
            "needs_background": "light"
          }
        }
      ]
    },
    {
      "cell_type": "markdown",
      "metadata": {
        "id": "kwcWe3pDGbSy"
      },
      "source": [
        "# Problem 1-1. Logistic regression model using sklearn packages.\n",
        "\n",
        "Train your data using LogisticRegression classes from skikit-learn library.\n"
      ]
    },
    {
      "cell_type": "code",
      "metadata": {
        "id": "ONWQ_Q5yGbS0"
      },
      "source": [
        "def learn_and_return_weights(X, y):\n",
        "    from sklearn.linear_model import LogisticRegression\n",
        "    \n",
        "    model = LogisticRegression(solver='liblinear').fit(X, y)\n",
        "    \n",
        "    # w: coefficient of the model to input features\n",
        "    w = model.coef_[0]\n",
        "    \n",
        "    # b: bias of the model\n",
        "    b = model.intercept_\n",
        "    \n",
        "    print(w, b, model.n_iter_)\n",
        "    return w, b"
      ],
      "execution_count": null,
      "outputs": []
    },
    {
      "cell_type": "code",
      "metadata": {
        "id": "HkQB55lkGbS3",
        "colab": {
          "base_uri": "https://localhost:8080/",
          "height": 283
        },
        "outputId": "f4ccad2c-9e7e-4efd-cd30-dd9213c5a0cb"
      },
      "source": [
        "def plot_data_and_weights(X, y, w, b):\n",
        "    plt.scatter(X[:, 0][label_mask], X[:, 1][label_mask], color='red')\n",
        "    plt.scatter(X[:, 0][~label_mask], X[:, 1][~label_mask], color='blue')\n",
        "\n",
        "    x_lin = np.arange(20, 70)\n",
        "    y_lin = -(0.5 + b + w[0] * x_lin) / w[1]\n",
        "\n",
        "    plt.plot(x_lin, y_lin, color='black');\n",
        "    plt.show()\n",
        "\n",
        "w, b = learn_and_return_weights(X, y)\n",
        "plot_data_and_weights(X, y, w, b)"
      ],
      "execution_count": null,
      "outputs": [
        {
          "output_type": "stream",
          "text": [
            "[-1.93805125e-01  1.90809864e-04] [-0.00760874] [18]\n"
          ],
          "name": "stdout"
        },
        {
          "output_type": "display_data",
          "data": {
            "image/png": "[encoded data removed]",
            "text/plain": [
              "<Figure size 432x288 with 1 Axes>"
            ]
          },
          "metadata": {
            "tags": [],
            "needs_background": "light"
          }
        }
      ]
    },
    {
      "cell_type": "markdown",
      "metadata": {
        "id": "jKYz83ecGbS6"
      },
      "source": [
        "## Problem 1-2. Implement Logistic Regression Model\n",
        "\n",
        "Implement Logistic Regression without using scikit-learn libraries.\n"
      ]
    },
    {
      "cell_type": "code",
      "metadata": {
        "id": "eGTRLxvsGbS7"
      },
      "source": [
        "def sigmoid(z):\n",
        "    return 1 / (1 + np.exp(-z))\n",
        "\n",
        "def binary_cross_entropy_loss(y_pred, target):\n",
        "    loss = (-target * np.log(y_pred + 1e-9) - (1 - target) * np.log(1 - y_pred + 1e-9))\n",
        "    return loss.mean()\n",
        "    \n",
        "def learn_and_return_weights_numpy(X, Y, lr=.01, iter=100000):\n",
        "    num_examples, num_features = np.shape(X)\n",
        "    intercept = np.ones((num_examples, 1))\n",
        "    X = np.concatenate((intercept, X), axis=1)\n",
        "    W = np.zeros(num_features + 1)\n",
        "    \n",
        "    loss = []\n",
        "\n",
        "    for i in range(iter):\n",
        "        z = np.dot(X, W)\n",
        "        h = sigmoid(z)\n",
        "        loss += [binary_cross_entropy_loss(h, Y)]\n",
        "            \n",
        "        grad = np.dot(X.transpose(), h-Y) / num_examples\n",
        "        W -= lr * grad\n",
        "    \n",
        "    # w: coefficient of the model to input features\n",
        "    w = W[1:num_features + 1]\n",
        "    \n",
        "    # b: bias of the model\n",
        "    b = W[0]\n",
        "    \n",
        "    return w, b"
      ],
      "execution_count": null,
      "outputs": []
    },
    {
      "cell_type": "code",
      "metadata": {
        "id": "ryO_ItqRGbS_",
        "colab": {
          "base_uri": "https://localhost:8080/",
          "height": 265
        },
        "outputId": "1a10acc0-a617-4313-a04b-e3d25e4faa9d"
      },
      "source": [
        "w, b = learn_and_return_weights_numpy(X, y)\n",
        "plot_data_and_weights(X, y, w, b)"
      ],
      "execution_count": null,
      "outputs": [
        {
          "output_type": "display_data",
          "data": {
            "image/png": "[encoded data removed]",
            "text/plain": [
              "<Figure size 432x288 with 1 Axes>"
            ]
          },
          "metadata": {
            "tags": [],
            "needs_background": "light"
          }
        }
      ]
    }
  ]
}
