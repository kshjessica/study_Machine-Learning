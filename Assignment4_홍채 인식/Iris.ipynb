{
 "cells": [
  {
   "cell_type": "code",
   "execution_count": 1,
   "metadata": {},
   "outputs": [],
   "source": [
    "import re\n",
    "import cv2\n",
    "import os\n",
    "from PIL import Image\n",
    "from scipy import misc\n",
    "import tensorflow as tf\n",
    "import tensorflow.keras as keras\n",
    "from matplotlib import pyplot as plt\n",
    "import numpy as np\n",
    "import pandas as pd\n",
    "import gzip\n",
    "%matplotlib inline\n",
    "from tensorflow.keras.layers import Input,Conv2D,MaxPool2D,UpSampling2D\n",
    "from tensorflow.keras.models import Model\n",
    "from tensorflow.keras.optimizers import RMSprop\n",
    "from tensorflow.keras.preprocessing.image import load_img\n",
    "from tensorflow.keras.preprocessing.image import img_to_array\n",
    "from tensorflow.keras.preprocessing.image import array_to_img\n",
    "from tensorflow.python.keras.models import Sequential\n",
    "from tensorflow.python.keras.layers import Dense\n",
    "from tensorflow.python.keras.layers import Flatten\n",
    "from tensorflow.python.keras.utils import np_utils\n"
   ]
  },
  {
   "cell_type": "markdown",
   "metadata": {},
   "source": [
    "# DATA Preprocessing"
   ]
  },
  {
   "cell_type": "code",
   "execution_count": 2,
   "metadata": {
    "scrolled": false
   },
   "outputs": [],
   "source": [
    "#Data Preprocessing\n",
    "\n",
    "def create_dataset_train(img_folder):\n",
    "   \n",
    "    img_data_array=[]\n",
    "    class_name=[]\n",
    "    \n",
    "    for file in os.listdir(img_folder):\n",
    "        \n",
    "        image_path = os.path.join(img_folder, file)\n",
    "        image = load_img(image_path, 'rb')\n",
    "        image = img_to_array(image)\n",
    "        \n",
    "        \n",
    "        if image.shape[2] == 3:\n",
    "            image = image.mean(2)\n",
    "        img_data_array.append(image)\n",
    "        name_index = re.split(\"L|R\", file)\n",
    "        name_index = int(name_index[0])\n",
    "        class_name.append(name_index)\n",
    "        \n",
    "    return np.array(img_data_array), np.array(class_name)\n",
    "\n",
    "def create_dataset_test(img_folder):\n",
    "   \n",
    "    img_data_array=[]\n",
    "    class_name=[]\n",
    "    \n",
    "    for file in os.listdir(img_folder):\n",
    "        \n",
    "        image_path = os.path.join(img_folder, file)\n",
    "        image = load_img(image_path, 'rb')\n",
    "        image = img_to_array(image)\n",
    "        \n",
    "        if image.shape[2] == 3:\n",
    "            image = image.mean(2)\n",
    "        img_data_array.append(image)\n",
    "        name_index = file.split(\".\")\n",
    "        name_index = int(name_index[0])\n",
    "        class_name.append(name_index)\n",
    "        \n",
    "    return np.array(img_data_array), np.array(class_name)\n",
    "\n",
    "def normalization(image):\n",
    "    image = image / image.max()\n",
    "    return image\n",
    "\n",
    "\n",
    "training_path = \"./03_iris_training\"\n",
    "test_path = './03_iris_test'\n",
    "\n",
    "train_data, train_label = create_dataset_train(training_path)\n",
    "test_data, _ = create_dataset_test(test_path)\n",
    "\n",
    "train_data = normalization(train_data)\n",
    "test_data = normalization(test_data)"
   ]
  },
  {
   "cell_type": "code",
   "execution_count": 3,
   "metadata": {},
   "outputs": [],
   "source": [
    "#preparing test_result_DataFrame\n",
    "\n",
    "test_index = os.listdir(test_path)\n",
    "temp = []\n",
    "\n",
    "for index in test_index:\n",
    "    index = index.split(\".\")\n",
    "    temp.append(int(index[0]))\n",
    "    \n",
    "test_index = temp"
   ]
  },
  {
   "cell_type": "code",
   "execution_count": 4,
   "metadata": {},
   "outputs": [
    {
     "name": "stdout",
     "output_type": "stream",
     "text": [
      "Shape of Train images : (128, 576, 768)\n",
      "Shape of Train labels :  (128,)\n",
      "Shape of Test images :  (256, 576, 768)\n"
     ]
    }
   ],
   "source": [
    "print('Shape of Train images :',train_data.shape)\n",
    "print('Shape of Train labels : ', train_label.shape)\n",
    "print('Shape of Test images : ', test_data.shape)"
   ]
  },
  {
   "cell_type": "markdown",
   "metadata": {},
   "source": [
    "# Model"
   ]
  },
  {
   "cell_type": "code",
   "execution_count": 5,
   "metadata": {},
   "outputs": [
    {
     "name": "stdout",
     "output_type": "stream",
     "text": [
      "Model: \"sequential\"\n",
      "_________________________________________________________________\n",
      "Layer (type)                 Output Shape              Param #   \n",
      "=================================================================\n",
      "flatten (Flatten)            (None, 442368)            0         \n",
      "_________________________________________________________________\n",
      "dense (Dense)                (None, 256)               113246464 \n",
      "_________________________________________________________________\n",
      "dense_1 (Dense)              (None, 512)               131584    \n",
      "=================================================================\n",
      "Total params: 113,378,048\n",
      "Trainable params: 113,378,048\n",
      "Non-trainable params: 0\n",
      "_________________________________________________________________\n"
     ]
    }
   ],
   "source": [
    "model = keras.Sequential([\n",
    "    keras.layers.Flatten(input_shape=(576, 768)),\n",
    "    keras.layers.Dense(256, activation='relu'),\n",
    "    keras.layers.Dense(512, activation='softmax')\n",
    "])\n",
    "\n",
    "model.summary()"
   ]
  },
  {
   "cell_type": "code",
   "execution_count": 6,
   "metadata": {},
   "outputs": [],
   "source": [
    "model.compile(optimizer='adam',\n",
    "              loss='sparse_categorical_crossentropy',\n",
    "              metrics=['accuracy'])"
   ]
  },
  {
   "cell_type": "code",
   "execution_count": 7,
   "metadata": {},
   "outputs": [
    {
     "name": "stdout",
     "output_type": "stream",
     "text": [
      "Epoch 1/20\n",
      "4/4 [==============================] - 4s 763ms/step - loss: 144.8325 - accuracy: 0.0078\n",
      "Epoch 2/20\n",
      "4/4 [==============================] - 3s 737ms/step - loss: 137.0007 - accuracy: 0.0156\n",
      "Epoch 3/20\n",
      "4/4 [==============================] - 3s 734ms/step - loss: 86.0499 - accuracy: 0.0078\n",
      "Epoch 4/20\n",
      "4/4 [==============================] - 3s 687ms/step - loss: 49.0910 - accuracy: 0.0156\n",
      "Epoch 5/20\n",
      "4/4 [==============================] - 3s 697ms/step - loss: 19.3501 - accuracy: 0.0000e+00\n",
      "Epoch 6/20\n",
      "4/4 [==============================] - 3s 679ms/step - loss: 6.2509 - accuracy: 0.0000e+00\n",
      "Epoch 7/20\n",
      "4/4 [==============================] - 3s 660ms/step - loss: 6.2071 - accuracy: 0.0156\n",
      "Epoch 8/20\n",
      "4/4 [==============================] - 3s 681ms/step - loss: 6.1525 - accuracy: 0.0156\n",
      "Epoch 9/20\n",
      "4/4 [==============================] - 3s 725ms/step - loss: 6.0836 - accuracy: 0.0156\n",
      "Epoch 10/20\n",
      "4/4 [==============================] - 3s 662ms/step - loss: 6.1169 - accuracy: 0.0078\n",
      "Epoch 11/20\n",
      "4/4 [==============================] - 3s 666ms/step - loss: 6.1721 - accuracy: 0.0156\n",
      "Epoch 12/20\n",
      "4/4 [==============================] - 3s 675ms/step - loss: 6.1507 - accuracy: 0.0156\n",
      "Epoch 13/20\n",
      "4/4 [==============================] - 3s 656ms/step - loss: 5.8863 - accuracy: 0.0312\n",
      "Epoch 14/20\n",
      "4/4 [==============================] - 3s 685ms/step - loss: 5.9313 - accuracy: 0.0156\n",
      "Epoch 15/20\n",
      "4/4 [==============================] - 3s 714ms/step - loss: 5.9236 - accuracy: 0.0312\n",
      "Epoch 16/20\n",
      "4/4 [==============================] - 3s 743ms/step - loss: 5.7768 - accuracy: 0.0156\n",
      "Epoch 17/20\n",
      "4/4 [==============================] - 3s 783ms/step - loss: 5.6305 - accuracy: 0.0156\n",
      "Epoch 18/20\n",
      "4/4 [==============================] - 3s 741ms/step - loss: 5.5109 - accuracy: 0.0156\n",
      "Epoch 19/20\n",
      "4/4 [==============================] - 3s 757ms/step - loss: 5.4739 - accuracy: 0.0156\n",
      "Epoch 20/20\n",
      "4/4 [==============================] - 3s 687ms/step - loss: 5.3708 - accuracy: 0.0156\n"
     ]
    },
    {
     "data": {
      "text/plain": [
       "<tensorflow.python.keras.callbacks.History at 0x160a7a5a8e0>"
      ]
     },
     "execution_count": 7,
     "metadata": {},
     "output_type": "execute_result"
    }
   ],
   "source": [
    "model.fit(train_data, train_label, epochs=20)"
   ]
  },
  {
   "cell_type": "markdown",
   "metadata": {},
   "source": [
    "# Training Validation"
   ]
  },
  {
   "cell_type": "code",
   "execution_count": 8,
   "metadata": {},
   "outputs": [],
   "source": [
    "predictions = model.predict(train_data)"
   ]
  },
  {
   "cell_type": "code",
   "execution_count": 9,
   "metadata": {},
   "outputs": [
    {
     "name": "stdout",
     "output_type": "stream",
     "text": [
      "(128, 512)\n"
     ]
    }
   ],
   "source": [
    "print(predictions.shape)"
   ]
  },
  {
   "cell_type": "code",
   "execution_count": 10,
   "metadata": {},
   "outputs": [],
   "source": [
    "predict_label = []\n",
    "for image in predictions:\n",
    "    predict_label.append(np.argmax(image))"
   ]
  },
  {
   "cell_type": "code",
   "execution_count": 11,
   "metadata": {},
   "outputs": [],
   "source": [
    "predict_label = np.array(predict_label)"
   ]
  },
  {
   "cell_type": "code",
   "execution_count": 12,
   "metadata": {},
   "outputs": [
    {
     "data": {
      "text/plain": [
       "0.015625"
      ]
     },
     "execution_count": 12,
     "metadata": {},
     "output_type": "execute_result"
    }
   ],
   "source": [
    "def accuracy(original, prediction):\n",
    "    accuracy = original == prediction\n",
    "    accuracy = np.count_nonzero(accuracy)\n",
    "    \n",
    "    return accuracy / original.shape[0]\n",
    "    \n",
    "accuracy(train_label, predict_label)"
   ]
  },
  {
   "cell_type": "markdown",
   "metadata": {},
   "source": [
    "# Test"
   ]
  },
  {
   "cell_type": "code",
   "execution_count": 13,
   "metadata": {},
   "outputs": [],
   "source": [
    "predictions = model.predict(test_data)"
   ]
  },
  {
   "cell_type": "code",
   "execution_count": 14,
   "metadata": {},
   "outputs": [
    {
     "name": "stdout",
     "output_type": "stream",
     "text": [
      "(256, 512)\n"
     ]
    }
   ],
   "source": [
    "print(predictions.shape)"
   ]
  },
  {
   "cell_type": "code",
   "execution_count": 15,
   "metadata": {},
   "outputs": [],
   "source": [
    "test_label = []\n",
    "for image in predictions:\n",
    "    test_label.append(np.argmax(image))"
   ]
  },
  {
   "cell_type": "code",
   "execution_count": 16,
   "metadata": {},
   "outputs": [],
   "source": [
    "test_label = np.array(test_label)"
   ]
  },
  {
   "cell_type": "code",
   "execution_count": 17,
   "metadata": {},
   "outputs": [
    {
     "name": "stdout",
     "output_type": "stream",
     "text": [
      "[25 25 25 25 25 25 25 25 25 25 25 25 25 25 25 25 25 25 25 25 25 25 25 25\n",
      " 25 25 25 25 25 25 25 25 25 25 25 25 25 25 25 25 25 25 25 25 25 25 25 25\n",
      " 25 25 25 25 25 25  3 25 25 25 25 25 25 25 25 25 25 25 25 25 25 25 25 25\n",
      " 25 25 25 25 25 25 25 25 25  9 25 25 25 25 25 25 25 25 25 25 25 25 25 25\n",
      " 25 25 25 25 25 25 25 44 25 25 25 25 25 25 25 25 14 25 44 25 25  9 25 25\n",
      " 25 25 25 25 25 25 25 25 25 25 25 25 14 25 14 25 25 25 25 25 25 25 25 25\n",
      " 25  9 14 25 25 25 25 25 25 25 25 25 25 25 25 25 25 25 25 14 25 25 25 25\n",
      " 25 25 25 14 25 25 25 25 25 25 25  9 25 25 25 25  9 25 25 25 25 25 25 25\n",
      " 25 25 25 25 25 25 25 25 25 25 25 25 25 25 25 25 25 25 25 25 25 44 25 14\n",
      " 25 25 25 25 25 25 25 25 25 25 25 25 25 25 25  9 25 25 25 25 25 14 25 25\n",
      " 25 25 25 25 25  9 25 25 25 25 25 25 25 25 25 25]\n"
     ]
    }
   ],
   "source": [
    "#결과\n",
    "print(test_label)"
   ]
  },
  {
   "cell_type": "markdown",
   "metadata": {},
   "source": [
    "# Extract Pandas DataFrame"
   ]
  },
  {
   "cell_type": "code",
   "execution_count": 18,
   "metadata": {},
   "outputs": [],
   "source": [
    "test_result_df = pd.DataFrame([x for x in zip(test_index, test_label)], columns=['Image', 'Answer'])"
   ]
  },
  {
   "cell_type": "code",
   "execution_count": 19,
   "metadata": {
    "scrolled": false
   },
   "outputs": [
    {
     "data": {
      "text/html": [
       "<div>\n",
       "<style scoped>\n",
       "    .dataframe tbody tr th:only-of-type {\n",
       "        vertical-align: middle;\n",
       "    }\n",
       "\n",
       "    .dataframe tbody tr th {\n",
       "        vertical-align: top;\n",
       "    }\n",
       "\n",
       "    .dataframe thead th {\n",
       "        text-align: right;\n",
       "    }\n",
       "</style>\n",
       "<table border=\"1\" class=\"dataframe\">\n",
       "  <thead>\n",
       "    <tr style=\"text-align: right;\">\n",
       "      <th></th>\n",
       "      <th>Image</th>\n",
       "      <th>Answer</th>\n",
       "    </tr>\n",
       "  </thead>\n",
       "  <tbody>\n",
       "    <tr>\n",
       "      <th>0</th>\n",
       "      <td>1</td>\n",
       "      <td>25</td>\n",
       "    </tr>\n",
       "    <tr>\n",
       "      <th>1</th>\n",
       "      <td>10</td>\n",
       "      <td>25</td>\n",
       "    </tr>\n",
       "    <tr>\n",
       "      <th>2</th>\n",
       "      <td>100</td>\n",
       "      <td>25</td>\n",
       "    </tr>\n",
       "    <tr>\n",
       "      <th>3</th>\n",
       "      <td>101</td>\n",
       "      <td>25</td>\n",
       "    </tr>\n",
       "    <tr>\n",
       "      <th>4</th>\n",
       "      <td>102</td>\n",
       "      <td>25</td>\n",
       "    </tr>\n",
       "  </tbody>\n",
       "</table>\n",
       "</div>"
      ],
      "text/plain": [
       "   Image  Answer\n",
       "0      1      25\n",
       "1     10      25\n",
       "2    100      25\n",
       "3    101      25\n",
       "4    102      25"
      ]
     },
     "execution_count": 19,
     "metadata": {},
     "output_type": "execute_result"
    }
   ],
   "source": [
    "test_result_df.head()"
   ]
  },
  {
   "cell_type": "code",
   "execution_count": 20,
   "metadata": {},
   "outputs": [
    {
     "data": {
      "text/html": [
       "<div>\n",
       "<style scoped>\n",
       "    .dataframe tbody tr th:only-of-type {\n",
       "        vertical-align: middle;\n",
       "    }\n",
       "\n",
       "    .dataframe tbody tr th {\n",
       "        vertical-align: top;\n",
       "    }\n",
       "\n",
       "    .dataframe thead th {\n",
       "        text-align: right;\n",
       "    }\n",
       "</style>\n",
       "<table border=\"1\" class=\"dataframe\">\n",
       "  <thead>\n",
       "    <tr style=\"text-align: right;\">\n",
       "      <th></th>\n",
       "      <th>Image</th>\n",
       "      <th>Answer</th>\n",
       "    </tr>\n",
       "  </thead>\n",
       "  <tbody>\n",
       "    <tr>\n",
       "      <th>0</th>\n",
       "      <td>1</td>\n",
       "      <td>25</td>\n",
       "    </tr>\n",
       "    <tr>\n",
       "      <th>111</th>\n",
       "      <td>2</td>\n",
       "      <td>25</td>\n",
       "    </tr>\n",
       "    <tr>\n",
       "      <th>179</th>\n",
       "      <td>3</td>\n",
       "      <td>9</td>\n",
       "    </tr>\n",
       "    <tr>\n",
       "      <th>190</th>\n",
       "      <td>4</td>\n",
       "      <td>25</td>\n",
       "    </tr>\n",
       "    <tr>\n",
       "      <th>201</th>\n",
       "      <td>5</td>\n",
       "      <td>25</td>\n",
       "    </tr>\n",
       "  </tbody>\n",
       "</table>\n",
       "</div>"
      ],
      "text/plain": [
       "     Image  Answer\n",
       "0        1      25\n",
       "111      2      25\n",
       "179      3       9\n",
       "190      4      25\n",
       "201      5      25"
      ]
     },
     "execution_count": 20,
     "metadata": {},
     "output_type": "execute_result"
    }
   ],
   "source": [
    "test_result_df = test_result_df.sort_values(by=\"Image\")\n",
    "test_result_df.head()"
   ]
  },
  {
   "cell_type": "code",
   "execution_count": 21,
   "metadata": {},
   "outputs": [],
   "source": [
    "test_result_df.to_csv(\"./result.csv\", index=False)"
   ]
  }
 ],
 "metadata": {
  "kernelspec": {
   "display_name": "Python 3",
   "language": "python",
   "name": "python3"
  },
  "language_info": {
   "codemirror_mode": {
    "name": "ipython",
    "version": 3
   },
   "file_extension": ".py",
   "mimetype": "text/x-python",
   "name": "python",
   "nbconvert_exporter": "python",
   "pygments_lexer": "ipython3",
   "version": "3.9.2"
  },
  "metadata": {
   "interpreter": {
    "hash": "63fd5069d213b44bf678585dea6b12cceca9941eaf7f819626cde1f2670de90d"
   }
  }
 },
 "nbformat": 4,
 "nbformat_minor": 4
}
