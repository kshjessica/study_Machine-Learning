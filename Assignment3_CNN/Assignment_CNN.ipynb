{
  "nbformat": 4,
  "nbformat_minor": 0,
  "metadata": {
    "kernelspec": {
      "display_name": "Python 3",
      "language": "python",
      "name": "python3"
    },
    "language_info": {
      "codemirror_mode": {
        "name": "ipython",
        "version": 3
      },
      "file_extension": ".py",
      "mimetype": "text/x-python",
      "name": "python",
      "nbconvert_exporter": "python",
      "pygments_lexer": "ipython3",
      "version": "3.6.10"
    },
    "colab": {
      "name": "Assignment2_CNN.ipynb",
      "provenance": [],
      "collapsed_sections": []
    },
    "widgets": {
      "application/vnd.jupyter.widget-state+json": {
        "2bf0cf2cb5814494ae9d5345829314e3": {
          "model_module": "@jupyter-widgets/controls",
          "model_name": "HBoxModel",
          "state": {
            "_view_name": "HBoxView",
            "_dom_classes": [],
            "_model_name": "HBoxModel",
            "_view_module": "@jupyter-widgets/controls",
            "_model_module_version": "1.5.0",
            "_view_count": null,
            "_view_module_version": "1.5.0",
            "box_style": "",
            "layout": "IPY_MODEL_98e2eb863a9948cb88ee1377d4be0d64",
            "_model_module": "@jupyter-widgets/controls",
            "children": [
              "IPY_MODEL_aa0a80495fcc493888eefd41fa7bc0a1",
              "IPY_MODEL_a431e6ddddd546f2aef6922b45bfaebe"
            ]
          }
        },
        "98e2eb863a9948cb88ee1377d4be0d64": {
          "model_module": "@jupyter-widgets/base",
          "model_name": "LayoutModel",
          "state": {
            "_view_name": "LayoutView",
            "grid_template_rows": null,
            "right": null,
            "justify_content": null,
            "_view_module": "@jupyter-widgets/base",
            "overflow": null,
            "_model_module_version": "1.2.0",
            "_view_count": null,
            "flex_flow": null,
            "width": null,
            "min_width": null,
            "border": null,
            "align_items": null,
            "bottom": null,
            "_model_module": "@jupyter-widgets/base",
            "top": null,
            "grid_column": null,
            "overflow_y": null,
            "overflow_x": null,
            "grid_auto_flow": null,
            "grid_area": null,
            "grid_template_columns": null,
            "flex": null,
            "_model_name": "LayoutModel",
            "justify_items": null,
            "grid_row": null,
            "max_height": null,
            "align_content": null,
            "visibility": null,
            "align_self": null,
            "height": null,
            "min_height": null,
            "padding": null,
            "grid_auto_rows": null,
            "grid_gap": null,
            "max_width": null,
            "order": null,
            "_view_module_version": "1.2.0",
            "grid_template_areas": null,
            "object_position": null,
            "object_fit": null,
            "grid_auto_columns": null,
            "margin": null,
            "display": null,
            "left": null
          }
        },
        "aa0a80495fcc493888eefd41fa7bc0a1": {
          "model_module": "@jupyter-widgets/controls",
          "model_name": "IntProgressModel",
          "state": {
            "_view_name": "ProgressView",
            "style": "IPY_MODEL_cceb54ddf1da45ad96cf572a1948943a",
            "_dom_classes": [],
            "description": "",
            "_model_name": "IntProgressModel",
            "bar_style": "success",
            "max": 1,
            "_view_module": "@jupyter-widgets/controls",
            "_model_module_version": "1.5.0",
            "value": 1,
            "_view_count": null,
            "_view_module_version": "1.5.0",
            "orientation": "horizontal",
            "min": 0,
            "description_tooltip": null,
            "_model_module": "@jupyter-widgets/controls",
            "layout": "IPY_MODEL_25e44a55ea1b412a9c010ce257e2fc05"
          }
        },
        "a431e6ddddd546f2aef6922b45bfaebe": {
          "model_module": "@jupyter-widgets/controls",
          "model_name": "HTMLModel",
          "state": {
            "_view_name": "HTMLView",
            "style": "IPY_MODEL_37315ee45eb84d2fb6b3bdea3a480b50",
            "_dom_classes": [],
            "description": "",
            "_model_name": "HTMLModel",
            "placeholder": "​",
            "_view_module": "@jupyter-widgets/controls",
            "_model_module_version": "1.5.0",
            "value": "170500096it [00:04, 42176491.32it/s]",
            "_view_count": null,
            "_view_module_version": "1.5.0",
            "description_tooltip": null,
            "_model_module": "@jupyter-widgets/controls",
            "layout": "IPY_MODEL_c0a25c956a5c4c579e679a4c9228037d"
          }
        },
        "cceb54ddf1da45ad96cf572a1948943a": {
          "model_module": "@jupyter-widgets/controls",
          "model_name": "ProgressStyleModel",
          "state": {
            "_view_name": "StyleView",
            "_model_name": "ProgressStyleModel",
            "description_width": "",
            "_view_module": "@jupyter-widgets/base",
            "_model_module_version": "1.5.0",
            "_view_count": null,
            "_view_module_version": "1.2.0",
            "bar_color": null,
            "_model_module": "@jupyter-widgets/controls"
          }
        },
        "25e44a55ea1b412a9c010ce257e2fc05": {
          "model_module": "@jupyter-widgets/base",
          "model_name": "LayoutModel",
          "state": {
            "_view_name": "LayoutView",
            "grid_template_rows": null,
            "right": null,
            "justify_content": null,
            "_view_module": "@jupyter-widgets/base",
            "overflow": null,
            "_model_module_version": "1.2.0",
            "_view_count": null,
            "flex_flow": null,
            "width": null,
            "min_width": null,
            "border": null,
            "align_items": null,
            "bottom": null,
            "_model_module": "@jupyter-widgets/base",
            "top": null,
            "grid_column": null,
            "overflow_y": null,
            "overflow_x": null,
            "grid_auto_flow": null,
            "grid_area": null,
            "grid_template_columns": null,
            "flex": null,
            "_model_name": "LayoutModel",
            "justify_items": null,
            "grid_row": null,
            "max_height": null,
            "align_content": null,
            "visibility": null,
            "align_self": null,
            "height": null,
            "min_height": null,
            "padding": null,
            "grid_auto_rows": null,
            "grid_gap": null,
            "max_width": null,
            "order": null,
            "_view_module_version": "1.2.0",
            "grid_template_areas": null,
            "object_position": null,
            "object_fit": null,
            "grid_auto_columns": null,
            "margin": null,
            "display": null,
            "left": null
          }
        },
        "37315ee45eb84d2fb6b3bdea3a480b50": {
          "model_module": "@jupyter-widgets/controls",
          "model_name": "DescriptionStyleModel",
          "state": {
            "_view_name": "StyleView",
            "_model_name": "DescriptionStyleModel",
            "description_width": "",
            "_view_module": "@jupyter-widgets/base",
            "_model_module_version": "1.5.0",
            "_view_count": null,
            "_view_module_version": "1.2.0",
            "_model_module": "@jupyter-widgets/controls"
          }
        },
        "c0a25c956a5c4c579e679a4c9228037d": {
          "model_module": "@jupyter-widgets/base",
          "model_name": "LayoutModel",
          "state": {
            "_view_name": "LayoutView",
            "grid_template_rows": null,
            "right": null,
            "justify_content": null,
            "_view_module": "@jupyter-widgets/base",
            "overflow": null,
            "_model_module_version": "1.2.0",
            "_view_count": null,
            "flex_flow": null,
            "width": null,
            "min_width": null,
            "border": null,
            "align_items": null,
            "bottom": null,
            "_model_module": "@jupyter-widgets/base",
            "top": null,
            "grid_column": null,
            "overflow_y": null,
            "overflow_x": null,
            "grid_auto_flow": null,
            "grid_area": null,
            "grid_template_columns": null,
            "flex": null,
            "_model_name": "LayoutModel",
            "justify_items": null,
            "grid_row": null,
            "max_height": null,
            "align_content": null,
            "visibility": null,
            "align_self": null,
            "height": null,
            "min_height": null,
            "padding": null,
            "grid_auto_rows": null,
            "grid_gap": null,
            "max_width": null,
            "order": null,
            "_view_module_version": "1.2.0",
            "grid_template_areas": null,
            "object_position": null,
            "object_fit": null,
            "grid_auto_columns": null,
            "margin": null,
            "display": null,
            "left": null
          }
        }
      }
    }
  },
  "cells": [
    {
      "cell_type": "markdown",
      "metadata": {
        "id": "SQ85oqmbI5si"
      },
      "source": [
        "# Machine Learning<br> Assignment #2 Training Convolutional Neural Networks (Pytorch)"
      ]
    },
    {
      "cell_type": "markdown",
      "metadata": {
        "id": "-6KUL0guI5sl"
      },
      "source": [
        "Copyright (C) This material is for educational uses only. Some contents are based on the material provided by other paper/book authors and may be copyrighted by them. "
      ]
    },
    {
      "cell_type": "markdown",
      "metadata": {
        "id": "STeBYfjcI5sm"
      },
      "source": [
        "**For understanding of this work, please carefully look at given PPT file.**\n",
        "\n",
        "Now, you're going to leave behind your implementations and instead migrate to one of popular deep learning frameworks, **PyTorch**. <br>\n",
        "In this notebook, you will learn how to train convolutional neural networks (CNNs) for classifying images in the CIFAR-10 dataset. <br>\n",
        "you need to follow the instructions to complete the skeleton codes and explain them.\n",
        "\n",
        "**Note**: certain details are missing or ambiguous on purpose, in order to test your knowledge on the related materials. However, if you really feel that something essential is missing and cannot proceed to the next step, then contact the teaching staff with clear description of your problem.\n",
        "\n",
        "\n",
        "### Some helpful tutorials and references for assignment #2:\n",
        "- [1] Pytorch official documentation. [[link]](https://pytorch.org/docs/stable/index.html)\n",
        "- [2] Stanford CS231n lectures. [[link]](http://cs231n.stanford.edu/)\n",
        "- [3] Szegedy et al., \"Going deeper with convolutions\", CVPR 2015. [[pdf]](http://www.cv-foundation.org/openaccess/content_cvpr_2015/papers/Szegedy_Going_Deeper_With_2015_CVPR_paper.pdf)"
      ]
    },
    {
      "cell_type": "markdown",
      "metadata": {
        "id": "VU2Dql1UI5sn"
      },
      "source": [
        "## 0. Load datasets\n",
        "The CIFAR-10 dataset will be downloaded automatically if it is not located in the *data* directory. <br>"
      ]
    },
    {
      "cell_type": "code",
      "metadata": {
        "id": "CeLry21NI5so"
      },
      "source": [
        "import torch\n",
        "import torchvision\n",
        "import torchvision.transforms as transforms\n",
        "import matplotlib.pyplot as plt\n",
        "import numpy as np\n",
        "import torch.nn as nn\n",
        "import torch.nn.functional as F\n",
        "import torch.optim as optim"
      ],
      "execution_count": null,
      "outputs": []
    },
    {
      "cell_type": "markdown",
      "metadata": {
        "id": "QHijXt85-o29"
      },
      "source": [
        ""
      ]
    },
    {
      "cell_type": "code",
      "metadata": {
        "id": "F1ZAvf3wI5sr",
        "colab": {
          "base_uri": "https://localhost:8080/",
          "height": 121,
          "referenced_widgets": [
            "2bf0cf2cb5814494ae9d5345829314e3",
            "98e2eb863a9948cb88ee1377d4be0d64",
            "aa0a80495fcc493888eefd41fa7bc0a1",
            "a431e6ddddd546f2aef6922b45bfaebe",
            "cceb54ddf1da45ad96cf572a1948943a",
            "25e44a55ea1b412a9c010ce257e2fc05",
            "37315ee45eb84d2fb6b3bdea3a480b50",
            "c0a25c956a5c4c579e679a4c9228037d"
          ]
        },
        "outputId": "01aae958-c4a1-4be4-9937-fbe8f99a2523"
      },
      "source": [
        "transform = transforms.Compose(\n",
        "    [transforms.ToTensor(),\n",
        "     transforms.Normalize((0.5, 0.5, 0.5), (0.5, 0.5, 0.5))])\n",
        "\n",
        "trainset = torchvision.datasets.CIFAR10(root='./data', train=True,\n",
        "                                        download=True, transform=transform)\n",
        "trainloader = torch.utils.data.DataLoader(trainset, batch_size=#DEFINE your batch size,\n",
        "                                          shuffle=True, num_workers=2)\n",
        "\n",
        "testset = torchvision.datasets.CIFAR10(root='./data', train=False,\n",
        "                                       download=True, transform=transform)\n",
        "testloader = torch.utils.data.DataLoader(testset, batch_size=#DEFINE your batch size,\n",
        "                                         shuffle=False, num_workers=2)\n",
        "\n",
        "classes = ('plane', 'car', 'bird', 'cat',\n",
        "           'deer', 'dog', 'frog', 'horse', 'ship', 'truck')"
      ],
      "execution_count": null,
      "outputs": [
        {
          "output_type": "stream",
          "text": [
            "Downloading https://www.cs.toronto.edu/~kriz/cifar-10-python.tar.gz to ./data/cifar-10-python.tar.gz\n"
          ],
          "name": "stdout"
        },
        {
          "output_type": "display_data",
          "data": {
            "application/vnd.jupyter.widget-view+json": {
              "model_id": "2bf0cf2cb5814494ae9d5345829314e3",
              "version_minor": 0,
              "version_major": 2
            },
            "text/plain": [
              "HBox(children=(IntProgress(value=1, bar_style='info', max=1), HTML(value='')))"
            ]
          },
          "metadata": {
            "tags": []
          }
        },
        {
          "output_type": "stream",
          "text": [
            "\n",
            "Extracting ./data/cifar-10-python.tar.gz to ./data\n",
            "Files already downloaded and verified\n"
          ],
          "name": "stdout"
        }
      ]
    },
    {
      "cell_type": "code",
      "metadata": {
        "scrolled": true,
        "id": "X0wkA3Q_I5su"
      },
      "source": [
        "# function to show an image\n",
        "def imshow(img):\n",
        "    img = img / 2 + 0.5     # unnormalize\n",
        "    npimg = img.numpy()\n",
        "    print(np.transpose(npimg, (1, 2, 0)).shape)\n",
        "    plt.imshow(np.transpose(npimg, (1, 2, 0)))\n",
        "    plt.show()"
      ],
      "execution_count": null,
      "outputs": []
    },
    {
      "cell_type": "code",
      "metadata": {
        "id": "57_tR3K6I5sx",
        "colab": {
          "base_uri": "https://localhost:8080/",
          "height": 192
        },
        "outputId": "8607b1a1-40f8-4d64-a21d-80e4115f904a"
      },
      "source": [
        "# get some random training images\n",
        "dataiter = iter(trainloader)\n",
        "images, labels = dataiter.next()\n",
        "\n",
        "# show images\n",
        "imshow(torchvision.utils.make_grid(images))\n",
        "# print labels\n",
        "print(' '.join('%5s' % classes[labels[j]] for j in range(4)))\n",
        "# print size of single image\n",
        "print(images[1].shape)"
      ],
      "execution_count": null,
      "outputs": [
        {
          "output_type": "stream",
          "text": [
            "(36, 138, 3)\n"
          ],
          "name": "stdout"
        },
        {
          "output_type": "display_data",
          "data": {
            "image/png": "[encoded data removed]",
            "text/plain": [
              "<Figure size 432x288 with 1 Axes>"
            ]
          },
          "metadata": {
            "tags": []
          }
        },
        {
          "output_type": "stream",
          "text": [
            " ship plane truck   cat\n",
            "torch.Size([3, 32, 32])\n"
          ],
          "name": "stdout"
        }
      ]
    },
    {
      "cell_type": "markdown",
      "metadata": {
        "id": "yfZ0paa1I5s0"
      },
      "source": [
        "## 1. Training a small CNN model\n",
        "\n",
        "#### CNN architecture in order:\n",
        "* 5x5 Convolutional layer with 6 filters, strides of 1, and ReLU activation\n",
        "* 2x2 Max pooling layer with strides of 2\n",
        "* 5x5 Convolutional layer with 16 filters, strides of 1, and ReLU activation\n",
        "* 2x2 Max pooling layer with strides of 2\n",
        "* Fully connected layer with 120 output units and ReLU activation\n",
        "* Fully connected layer with 84 output units and ReLU activation\n",
        "* Fully connected layer with 10 output units and linear activation\n",
        "* You can use any padding option.\n",
        "\n",
        "#### Training setup:\n",
        "* Loss function: Sotfmax cross entropy\n",
        "* Optimizer: Gradient descent with 0.001 learning rate\n",
        "* Batch size: 4\n",
        "* Training epoch: 2"
      ]
    },
    {
      "cell_type": "code",
      "metadata": {
        "id": "avbMOsRGI5s0"
      },
      "source": [
        "# Define a CNN model\n",
        "class Net(nn.Module):\n",
        "    def __init__(self):\n",
        "        super(Net, self).__init__()\n",
        "        ##############################################################################\n",
        "        #                          IMPLEMENT YOUR CODE                               #\n",
        "        ##############################################################################\n",
        "        self.conv1 = nn.Conv2d(3, 6, 5)\n",
        "        self.pool = nn.MaxPool2d(2, 2)\n",
        "        self.conv2 = nn.Conv2d(6, 16, 5)\n",
        "    \n",
        "\n",
        "        self.fc3 = nn.Linear(84, 10)\n",
        "        ##############################################################################\n",
        "        #                          END OF YOUR CODE                                  #\n",
        "        ##############################################################################\n",
        "\n",
        "    def forward(self, x):\n",
        "        ##############################################################################\n",
        "        #                          IMPLEMENT YOUR CODE                               #\n",
        "        ##############################################################################\n",
        "        x = self.pool(F.relu(self.conv1(x)))\n",
        "\n",
        "        x = x.view(-1, 16 * 5 * 5)\n",
        "\n",
        "        x = self.fc3(x)\n",
        "        ##############################################################################\n",
        "        #                          END OF YOUR CODE                                  #\n",
        "        ##############################################################################\n",
        "        return x\n",
        "\n",
        "net = Net()"
      ],
      "execution_count": null,
      "outputs": []
    },
    {
      "cell_type": "code",
      "metadata": {
        "id": "li49vft2I5s3"
      },
      "source": [
        "# Training on GPU\n",
        "device = torch.device(\"cuda:0\" if torch.cuda.is_available() else \"cpu\")\n",
        "net = net.to(device)"
      ],
      "execution_count": null,
      "outputs": []
    },
    {
      "cell_type": "code",
      "metadata": {
        "id": "ByLTEPh-I5s5"
      },
      "source": [
        "# Define a Loss function and optimizer\n",
        "criterion = \n",
        "optimizer = #Define optimizer and learning rate"
      ],
      "execution_count": null,
      "outputs": []
    },
    {
      "cell_type": "code",
      "metadata": {
        "id": "baMkON-wI5s8"
      },
      "source": [
        "# Function to train the network\n",
        "\n",
        "def train(net, trainloader, max_epoch, crit, opt, model_path='./cifar_net.pth'):\n",
        "\n",
        "    for epoch in range(max_epoch):  # loop over the dataset multiple times\n",
        "\n",
        "        running_loss = 0.0\n",
        "        for i, data in enumerate(trainloader, 0):\n",
        "            # get the inputs; data is a list of [inputs, labels]\n",
        "            inputs, labels = data\n",
        "        \n",
        "            # Training on GPU\n",
        "            inputs = inputs.to(device)\n",
        "            labels = labels.to(device)\n",
        "\n",
        "            # zero the parameter gradients\n",
        "            optimizer.zero_grad()\n",
        "\n",
        "            # forward + backward + optimize\n",
        "            outputs = net(inputs)\n",
        "            loss = crit(outputs, labels)\n",
        "            loss.backward()\n",
        "            opt.step()\n",
        "\n",
        "            # print statistics\n",
        "            running_loss += loss.item()\n",
        "            if i % 2000 == 1999:    # print every 2000 mini-batches\n",
        "                print('[%d, %5d] loss: %.3f' %\n",
        "                      (epoch + 1, i + 1, running_loss / 2000))\n",
        "                running_loss = 0.0\n",
        "\n",
        "    print('Finished Training')\n",
        "    torch.save(net.state_dict(), model_path)\n",
        "    print('Saved Trained Model')"
      ],
      "execution_count": null,
      "outputs": []
    },
    {
      "cell_type": "code",
      "metadata": {
        "id": "Yg2k5oxwI5s-",
        "outputId": "8017aa17-3f94-4755-847d-10947fa1e437"
      },
      "source": [
        "PATH = './cifar_net.pth'\n",
        "train(net, trainloader, #DEFINE your epoch, criterion, optimizer, PATH)"
      ],
      "execution_count": null,
      "outputs": [
        {
          "output_type": "stream",
          "text": [
            "torch.Size([4, 3, 32, 32])\n",
            "torch.Size([4, 3, 32, 32])\n",
            "torch.Size([4, 3, 32, 32])\n",
            "torch.Size([4, 3, 32, 32])\n",
            "torch.Size([4, 3, 32, 32])\n",
            "torch.Size([4, 3, 32, 32])\n",
            "torch.Size([4, 3, 32, 32])\n",
            "torch.Size([4, 3, 32, 32])\n",
            "torch.Size([4, 3, 32, 32])\n",
            "torch.Size([4, 3, 32, 32])\n",
            "torch.Size([4, 3, 32, 32])\n",
            "torch.Size([4, 3, 32, 32])\n",
            "torch.Size([4, 3, 32, 32])\n",
            "torch.Size([4, 3, 32, 32])\n",
            "torch.Size([4, 3, 32, 32])\n",
            "torch.Size([4, 3, 32, 32])\n",
            "torch.Size([4, 3, 32, 32])\n",
            "torch.Size([4, 3, 32, 32])\n",
            "torch.Size([4, 3, 32, 32])\n",
            "torch.Size([4, 3, 32, 32])\n",
            "torch.Size([4, 3, 32, 32])\n",
            "torch.Size([4, 3, 32, 32])\n",
            "torch.Size([4, 3, 32, 32])\n",
            "torch.Size([4, 3, 32, 32])\n",
            "torch.Size([4, 3, 32, 32])\n",
            "torch.Size([4, 3, 32, 32])\n",
            "torch.Size([4, 3, 32, 32])\n",
            "torch.Size([4, 3, 32, 32])\n",
            "torch.Size([4, 3, 32, 32])\n",
            "torch.Size([4, 3, 32, 32])\n",
            "torch.Size([4, 3, 32, 32])\n",
            "torch.Size([4, 3, 32, 32])\n",
            "torch.Size([4, 3, 32, 32])\n",
            "torch.Size([4, 3, 32, 32])\n",
            "torch.Size([4, 3, 32, 32])\n",
            "torch.Size([4, 3, 32, 32])\n",
            "torch.Size([4, 3, 32, 32])\n",
            "torch.Size([4, 3, 32, 32])\n",
            "torch.Size([4, 3, 32, 32])\n",
            "torch.Size([4, 3, 32, 32])\n",
            "torch.Size([4, 3, 32, 32])\n",
            "torch.Size([4, 3, 32, 32])\n",
            "torch.Size([4, 3, 32, 32])\n",
            "torch.Size([4, 3, 32, 32])\n",
            "torch.Size([4, 3, 32, 32])\n",
            "torch.Size([4, 3, 32, 32])\n",
            "torch.Size([4, 3, 32, 32])\n",
            "torch.Size([4, 3, 32, 32])\n",
            "torch.Size([4, 3, 32, 32])\n",
            "torch.Size([4, 3, 32, 32])\n",
            "torch.Size([4, 3, 32, 32])\n",
            "torch.Size([4, 3, 32, 32])\n",
            "torch.Size([4, 3, 32, 32])\n",
            "torch.Size([4, 3, 32, 32])\n",
            "torch.Size([4, 3, 32, 32])\n",
            "torch.Size([4, 3, 32, 32])\n",
            "torch.Size([4, 3, 32, 32])\n",
            "torch.Size([4, 3, 32, 32])\n",
            "torch.Size([4, 3, 32, 32])\n",
            "torch.Size([4, 3, 32, 32])\n",
            "torch.Size([4, 3, 32, 32])\n",
            "torch.Size([4, 3, 32, 32])\n",
            "torch.Size([4, 3, 32, 32])\n",
            "torch.Size([4, 3, 32, 32])\n",
            "torch.Size([4, 3, 32, 32])\n",
            "torch.Size([4, 3, 32, 32])\n",
            "torch.Size([4, 3, 32, 32])\n",
            "torch.Size([4, 3, 32, 32])\n",
            "torch.Size([4, 3, 32, 32])\n",
            "torch.Size([4, 3, 32, 32])\n",
            "torch.Size([4, 3, 32, 32])\n",
            "torch.Size([4, 3, 32, 32])\n",
            "torch.Size([4, 3, 32, 32])\n",
            "torch.Size([4, 3, 32, 32])\n",
            "torch.Size([4, 3, 32, 32])\n",
            "torch.Size([4, 3, 32, 32])\n",
            "torch.Size([4, 3, 32, 32])\n",
            "torch.Size([4, 3, 32, 32])\n",
            "torch.Size([4, 3, 32, 32])\n",
            "torch.Size([4, 3, 32, 32])\n",
            "torch.Size([4, 3, 32, 32])\n",
            "torch.Size([4, 3, 32, 32])\n",
            "torch.Size([4, 3, 32, 32])\n",
            "torch.Size([4, 3, 32, 32])\n",
            "torch.Size([4, 3, 32, 32])\n",
            "torch.Size([4, 3, 32, 32])\n",
            "torch.Size([4, 3, 32, 32])\n",
            "torch.Size([4, 3, 32, 32])\n",
            "torch.Size([4, 3, 32, 32])\n",
            "torch.Size([4, 3, 32, 32])\n",
            "torch.Size([4, 3, 32, 32])\n",
            "torch.Size([4, 3, 32, 32])\n",
            "torch.Size([4, 3, 32, 32])\n",
            "torch.Size([4, 3, 32, 32])\n",
            "torch.Size([4, 3, 32, 32])\n",
            "torch.Size([4, 3, 32, 32])\n",
            "torch.Size([4, 3, 32, 32])\n",
            "torch.Size([4, 3, 32, 32])\n",
            "torch.Size([4, 3, 32, 32])\n",
            "torch.Size([4, 3, 32, 32])\n",
            "torch.Size([4, 3, 32, 32])\n",
            "torch.Size([4, 3, 32, 32])\n",
            "torch.Size([4, 3, 32, 32])\n",
            "torch.Size([4, 3, 32, 32])\n",
            "torch.Size([4, 3, 32, 32])\n",
            "torch.Size([4, 3, 32, 32])\n",
            "torch.Size([4, 3, 32, 32])\n",
            "torch.Size([4, 3, 32, 32])\n",
            "torch.Size([4, 3, 32, 32])\n",
            "torch.Size([4, 3, 32, 32])\n",
            "torch.Size([4, 3, 32, 32])\n",
            "torch.Size([4, 3, 32, 32])\n",
            "torch.Size([4, 3, 32, 32])\n",
            "torch.Size([4, 3, 32, 32])\n",
            "torch.Size([4, 3, 32, 32])\n",
            "torch.Size([4, 3, 32, 32])\n",
            "torch.Size([4, 3, 32, 32])\n",
            "torch.Size([4, 3, 32, 32])\n",
            "torch.Size([4, 3, 32, 32])\n",
            "torch.Size([4, 3, 32, 32])\n",
            "torch.Size([4, 3, 32, 32])\n",
            "torch.Size([4, 3, 32, 32])\n",
            "torch.Size([4, 3, 32, 32])\n",
            "torch.Size([4, 3, 32, 32])\n",
            "torch.Size([4, 3, 32, 32])\n",
            "torch.Size([4, 3, 32, 32])\n",
            "torch.Size([4, 3, 32, 32])\n",
            "torch.Size([4, 3, 32, 32])\n",
            "torch.Size([4, 3, 32, 32])\n",
            "torch.Size([4, 3, 32, 32])\n",
            "torch.Size([4, 3, 32, 32])\n",
            "torch.Size([4, 3, 32, 32])\n",
            "torch.Size([4, 3, 32, 32])\n",
            "torch.Size([4, 3, 32, 32])\n",
            "torch.Size([4, 3, 32, 32])\n",
            "torch.Size([4, 3, 32, 32])\n",
            "torch.Size([4, 3, 32, 32])\n",
            "torch.Size([4, 3, 32, 32])\n",
            "torch.Size([4, 3, 32, 32])\n",
            "torch.Size([4, 3, 32, 32])\n",
            "torch.Size([4, 3, 32, 32])\n",
            "torch.Size([4, 3, 32, 32])\n",
            "torch.Size([4, 3, 32, 32])\n",
            "torch.Size([4, 3, 32, 32])\n",
            "torch.Size([4, 3, 32, 32])\n",
            "torch.Size([4, 3, 32, 32])\n",
            "torch.Size([4, 3, 32, 32])\n",
            "torch.Size([4, 3, 32, 32])\n",
            "torch.Size([4, 3, 32, 32])\n",
            "torch.Size([4, 3, 32, 32])\n",
            "torch.Size([4, 3, 32, 32])\n",
            "torch.Size([4, 3, 32, 32])\n",
            "torch.Size([4, 3, 32, 32])\n",
            "torch.Size([4, 3, 32, 32])\n",
            "torch.Size([4, 3, 32, 32])\n",
            "torch.Size([4, 3, 32, 32])\n",
            "torch.Size([4, 3, 32, 32])\n",
            "torch.Size([4, 3, 32, 32])\n",
            "torch.Size([4, 3, 32, 32])\n",
            "torch.Size([4, 3, 32, 32])\n",
            "torch.Size([4, 3, 32, 32])\n",
            "torch.Size([4, 3, 32, 32])\n",
            "torch.Size([4, 3, 32, 32])\n",
            "torch.Size([4, 3, 32, 32])\n",
            "torch.Size([4, 3, 32, 32])\n",
            "torch.Size([4, 3, 32, 32])\n",
            "torch.Size([4, 3, 32, 32])\n",
            "torch.Size([4, 3, 32, 32])\n",
            "torch.Size([4, 3, 32, 32])\n",
            "torch.Size([4, 3, 32, 32])\n",
            "torch.Size([4, 3, 32, 32])\n",
            "torch.Size([4, 3, 32, 32])\n",
            "torch.Size([4, 3, 32, 32])\n",
            "torch.Size([4, 3, 32, 32])\n",
            "torch.Size([4, 3, 32, 32])\n",
            "torch.Size([4, 3, 32, 32])\n",
            "torch.Size([4, 3, 32, 32])\n",
            "torch.Size([4, 3, 32, 32])\n",
            "torch.Size([4, 3, 32, 32])\n",
            "torch.Size([4, 3, 32, 32])\n",
            "torch.Size([4, 3, 32, 32])\n",
            "torch.Size([4, 3, 32, 32])\n",
            "torch.Size([4, 3, 32, 32])\n",
            "torch.Size([4, 3, 32, 32])\n",
            "torch.Size([4, 3, 32, 32])\n",
            "torch.Size([4, 3, 32, 32])\n",
            "torch.Size([4, 3, 32, 32])\n",
            "torch.Size([4, 3, 32, 32])\n",
            "torch.Size([4, 3, 32, 32])\n",
            "torch.Size([4, 3, 32, 32])\n",
            "torch.Size([4, 3, 32, 32])\n",
            "torch.Size([4, 3, 32, 32])\n",
            "torch.Size([4, 3, 32, 32])\n",
            "torch.Size([4, 3, 32, 32])\n",
            "torch.Size([4, 3, 32, 32])\n",
            "torch.Size([4, 3, 32, 32])\n",
            "torch.Size([4, 3, 32, 32])\n",
            "torch.Size([4, 3, 32, 32])\n",
            "torch.Size([4, 3, 32, 32])\n",
            "torch.Size([4, 3, 32, 32])\n",
            "torch.Size([4, 3, 32, 32])\n",
            "torch.Size([4, 3, 32, 32])\n",
            "torch.Size([4, 3, 32, 32])\n",
            "torch.Size([4, 3, 32, 32])\n",
            "torch.Size([4, 3, 32, 32])\n",
            "torch.Size([4, 3, 32, 32])\n",
            "torch.Size([4, 3, 32, 32])\n",
            "torch.Size([4, 3, 32, 32])\n",
            "torch.Size([4, 3, 32, 32])\n",
            "torch.Size([4, 3, 32, 32])\n",
            "torch.Size([4, 3, 32, 32])\n",
            "torch.Size([4, 3, 32, 32])\n",
            "torch.Size([4, 3, 32, 32])\n",
            "torch.Size([4, 3, 32, 32])\n",
            "torch.Size([4, 3, 32, 32])\n",
            "torch.Size([4, 3, 32, 32])\n",
            "torch.Size([4, 3, 32, 32])\n",
            "torch.Size([4, 3, 32, 32])\n",
            "torch.Size([4, 3, 32, 32])\n",
            "torch.Size([4, 3, 32, 32])\n",
            "torch.Size([4, 3, 32, 32])\n",
            "torch.Size([4, 3, 32, 32])\n",
            "torch.Size([4, 3, 32, 32])\n",
            "torch.Size([4, 3, 32, 32])\n",
            "torch.Size([4, 3, 32, 32])\n",
            "torch.Size([4, 3, 32, 32])\n",
            "torch.Size([4, 3, 32, 32])\n",
            "torch.Size([4, 3, 32, 32])\n",
            "torch.Size([4, 3, 32, 32])\n",
            "torch.Size([4, 3, 32, 32])\n",
            "torch.Size([4, 3, 32, 32])\n",
            "torch.Size([4, 3, 32, 32])\n",
            "torch.Size([4, 3, 32, 32])\n"
          ],
          "name": "stdout"
        },
        {
          "output_type": "error",
          "ename": "KeyboardInterrupt",
          "evalue": "",
          "traceback": [
            "\u001b[0;31m---------------------------------------------------------------------------\u001b[0m",
            "\u001b[0;31mKeyboardInterrupt\u001b[0m                         Traceback (most recent call last)",
            "\u001b[0;32m<ipython-input-32-052bf3031a0d>\u001b[0m in \u001b[0;36m<module>\u001b[0;34m\u001b[0m\n\u001b[1;32m      1\u001b[0m \u001b[0mPATH\u001b[0m \u001b[0;34m=\u001b[0m \u001b[0;34m'./cifar_net.pth'\u001b[0m\u001b[0;34m\u001b[0m\u001b[0;34m\u001b[0m\u001b[0m\n\u001b[0;32m----> 2\u001b[0;31m \u001b[0mtrain\u001b[0m\u001b[0;34m(\u001b[0m\u001b[0mnet\u001b[0m\u001b[0;34m,\u001b[0m \u001b[0mtrainloader\u001b[0m\u001b[0;34m,\u001b[0m \u001b[0;36m2\u001b[0m\u001b[0;34m,\u001b[0m \u001b[0mcriterion\u001b[0m\u001b[0;34m,\u001b[0m \u001b[0moptimizer\u001b[0m\u001b[0;34m,\u001b[0m \u001b[0mPATH\u001b[0m\u001b[0;34m)\u001b[0m\u001b[0;34m\u001b[0m\u001b[0;34m\u001b[0m\u001b[0m\n\u001b[0m",
            "\u001b[0;32m<ipython-input-31-ca287ccd2e2a>\u001b[0m in \u001b[0;36mtrain\u001b[0;34m(net, trainloader, max_epoch, crit, opt, model_path)\u001b[0m\n\u001b[1;32m     15\u001b[0m \u001b[0;34m\u001b[0m\u001b[0m\n\u001b[1;32m     16\u001b[0m             \u001b[0;31m# zero the parameter gradients\u001b[0m\u001b[0;34m\u001b[0m\u001b[0;34m\u001b[0m\u001b[0;34m\u001b[0m\u001b[0m\n\u001b[0;32m---> 17\u001b[0;31m             \u001b[0moptimizer\u001b[0m\u001b[0;34m.\u001b[0m\u001b[0mzero_grad\u001b[0m\u001b[0;34m(\u001b[0m\u001b[0;34m)\u001b[0m\u001b[0;34m\u001b[0m\u001b[0;34m\u001b[0m\u001b[0m\n\u001b[0m\u001b[1;32m     18\u001b[0m \u001b[0;34m\u001b[0m\u001b[0m\n\u001b[1;32m     19\u001b[0m             \u001b[0;31m# forward + backward + optimize\u001b[0m\u001b[0;34m\u001b[0m\u001b[0;34m\u001b[0m\u001b[0;34m\u001b[0m\u001b[0m\n",
            "\u001b[0;32m~/anaconda3/envs/torch13/lib/python3.6/site-packages/torch/optim/optimizer.py\u001b[0m in \u001b[0;36mzero_grad\u001b[0;34m(self)\u001b[0m\n\u001b[1;32m    163\u001b[0m                 \u001b[0;32mif\u001b[0m \u001b[0mp\u001b[0m\u001b[0;34m.\u001b[0m\u001b[0mgrad\u001b[0m \u001b[0;32mis\u001b[0m \u001b[0;32mnot\u001b[0m \u001b[0;32mNone\u001b[0m\u001b[0;34m:\u001b[0m\u001b[0;34m\u001b[0m\u001b[0;34m\u001b[0m\u001b[0m\n\u001b[1;32m    164\u001b[0m                     \u001b[0mp\u001b[0m\u001b[0;34m.\u001b[0m\u001b[0mgrad\u001b[0m\u001b[0;34m.\u001b[0m\u001b[0mdetach_\u001b[0m\u001b[0;34m(\u001b[0m\u001b[0;34m)\u001b[0m\u001b[0;34m\u001b[0m\u001b[0;34m\u001b[0m\u001b[0m\n\u001b[0;32m--> 165\u001b[0;31m                     \u001b[0mp\u001b[0m\u001b[0;34m.\u001b[0m\u001b[0mgrad\u001b[0m\u001b[0;34m.\u001b[0m\u001b[0mzero_\u001b[0m\u001b[0;34m(\u001b[0m\u001b[0;34m)\u001b[0m\u001b[0;34m\u001b[0m\u001b[0;34m\u001b[0m\u001b[0m\n\u001b[0m\u001b[1;32m    166\u001b[0m \u001b[0;34m\u001b[0m\u001b[0m\n\u001b[1;32m    167\u001b[0m     \u001b[0;32mdef\u001b[0m \u001b[0mstep\u001b[0m\u001b[0;34m(\u001b[0m\u001b[0mself\u001b[0m\u001b[0;34m,\u001b[0m \u001b[0mclosure\u001b[0m\u001b[0;34m)\u001b[0m\u001b[0;34m:\u001b[0m\u001b[0;34m\u001b[0m\u001b[0;34m\u001b[0m\u001b[0m\n",
            "\u001b[0;31mKeyboardInterrupt\u001b[0m: "
          ]
        }
      ]
    },
    {
      "cell_type": "code",
      "metadata": {
        "id": "RmuM3WnhI5tB"
      },
      "source": [
        "# function to calculate accuracy\n",
        "def print_accuracy(net, dataloader):\n",
        "    correct = 0\n",
        "    total = 0\n",
        "\n",
        "    with torch.no_grad():\n",
        "        for data in dataloader:\n",
        "            images, labels = data\n",
        "            # Inference on GPU\n",
        "            images = images.to(device)\n",
        "            labels = labels.to(device)\n",
        "        \n",
        "            outputs = net(images)\n",
        "            _, predicted = torch.max(outputs.data, 1)\n",
        "            total += labels.size(0)\n",
        "            correct += (predicted == labels).sum().item()\n",
        "        \n",
        "    print('Accuracy of the network on the %d test images: %d %%' % (total,\n",
        "        100 * correct / total))"
      ],
      "execution_count": null,
      "outputs": []
    },
    {
      "cell_type": "code",
      "metadata": {
        "id": "Robf5GNTI5tD",
        "outputId": "7c7918c8-dd24-498b-c1b8-17ee55b1fdaa"
      },
      "source": [
        "print_accuracy(net, testloader)"
      ],
      "execution_count": null,
      "outputs": [
        {
          "output_type": "stream",
          "text": [
            "Accuracy of the network on the 10000 test images: 55 %\n"
          ],
          "name": "stdout"
        }
      ]
    }
  ]
}